{
 "cells": [
  {
   "cell_type": "code",
   "execution_count": 19,
   "metadata": {},
   "outputs": [],
   "source": [
    "import torch\n",
    "import torch.nn as nn\n",
    "import torch.nn.functional as F"
   ]
  },
  {
   "cell_type": "code",
   "execution_count": 1,
   "metadata": {},
   "outputs": [],
   "source": [
    "import pandas as pd"
   ]
  },
  {
   "cell_type": "code",
   "execution_count": 2,
   "metadata": {},
   "outputs": [],
   "source": [
    "import pandas as pd\n",
    "url = 'http://archive.ics.uci.edu/ml/machine-learning-databases/auto-mpg/auto-mpg.data'\n",
    "column_names = ['MPG', 'Cylinders', 'Displacement', 'Horsepower',\n",
    "'Weight', 'Acceleration', 'Model Year', 'Origin']\n",
    "df = pd.read_csv(url, names=column_names,\n",
    "na_values = \"?\", comment='\\t',\n",
    "sep=\" \", skipinitialspace=True)"
   ]
  },
  {
   "cell_type": "code",
   "execution_count": 4,
   "metadata": {},
   "outputs": [],
   "source": [
    "df = df.dropna()\n",
    "df = df.reset_index(drop=True)"
   ]
  },
  {
   "cell_type": "code",
   "execution_count": 6,
   "metadata": {},
   "outputs": [],
   "source": [
    "import sklearn\n",
    "from sklearn.model_selection import train_test_split\n",
    "\n",
    "df_train, df_test = train_test_split(df, train_size=0.8, random_state=1)\n",
    "train_stats = df_train.describe().transpose()\n",
    "\n",
    "numeric_column_names = ['Cylinders', 'Displacement',\n",
    " 'Horsepower', 'Weight', 'Acceleration']"
   ]
  },
  {
   "cell_type": "code",
   "execution_count": 8,
   "metadata": {},
   "outputs": [
    {
     "name": "stderr",
     "output_type": "stream",
     "text": [
      "/tmp/ipykernel_125857/1135062808.py:5: FutureWarning: Setting an item of incompatible dtype is deprecated and will raise in a future error of pandas. Value '[-0.8243028   0.3511267  -0.8243028  -0.8243028  -0.8243028   1.52655621\n",
      "  0.3511267  -0.8243028  -0.8243028  -0.8243028   0.3511267  -0.8243028\n",
      "  0.3511267   1.52655621  1.52655621  1.52655621  0.3511267   1.52655621\n",
      " -0.8243028   0.3511267   1.52655621 -0.8243028  -0.8243028   0.3511267\n",
      " -0.8243028  -0.8243028  -0.8243028   0.3511267  -0.8243028   1.52655621\n",
      "  0.3511267  -0.8243028   0.3511267  -0.8243028  -0.8243028   1.52655621\n",
      " -0.8243028   1.52655621  1.52655621 -0.8243028  -0.8243028  -0.8243028\n",
      " -0.8243028   0.3511267  -0.8243028   1.52655621 -0.8243028  -0.8243028\n",
      "  1.52655621 -0.8243028  -0.8243028  -0.8243028   1.52655621  1.52655621\n",
      "  0.3511267   0.3511267   1.52655621 -0.8243028  -0.8243028   1.52655621\n",
      "  1.52655621 -0.8243028  -0.8243028   0.3511267   1.52655621 -0.8243028\n",
      "  0.3511267  -0.8243028   1.52655621  1.52655621 -0.8243028  -0.8243028\n",
      " -1.41201755  1.52655621  0.3511267   1.52655621 -0.8243028  -0.8243028\n",
      " -0.8243028   1.52655621  1.52655621  0.3511267   0.3511267   1.52655621\n",
      " -0.8243028   1.52655621 -0.23658805 -0.8243028  -0.8243028   0.3511267\n",
      "  0.3511267  -1.41201755 -0.8243028   1.52655621 -0.8243028   1.52655621\n",
      " -0.8243028   1.52655621  0.3511267  -0.8243028   0.3511267  -1.41201755\n",
      "  0.3511267  -0.8243028  -0.8243028  -0.8243028  -0.8243028  -0.8243028\n",
      " -0.8243028   1.52655621  1.52655621 -0.8243028   0.3511267  -0.8243028\n",
      " -0.8243028   0.3511267   1.52655621 -0.8243028  -0.8243028   0.3511267\n",
      "  0.3511267  -0.8243028  -0.8243028  -0.23658805 -0.8243028   0.3511267\n",
      "  0.3511267   0.3511267  -0.8243028   1.52655621  1.52655621 -0.8243028\n",
      "  0.3511267   1.52655621  1.52655621 -0.8243028   0.3511267   0.3511267\n",
      " -0.8243028  -0.8243028  -0.8243028  -0.8243028   1.52655621 -0.8243028\n",
      " -0.8243028   0.3511267  -0.8243028  -0.8243028   1.52655621 -0.8243028\n",
      "  1.52655621 -0.8243028  -0.8243028   1.52655621  1.52655621 -0.8243028\n",
      "  0.3511267  -0.8243028   1.52655621  0.3511267  -0.8243028   1.52655621\n",
      " -0.8243028  -0.8243028   1.52655621  1.52655621 -0.8243028   1.52655621\n",
      "  0.3511267  -0.8243028  -0.8243028   0.3511267   1.52655621  1.52655621\n",
      " -0.8243028  -0.8243028  -0.8243028  -0.8243028  -0.8243028  -0.8243028\n",
      " -0.8243028   1.52655621 -0.8243028   0.3511267   1.52655621 -0.8243028\n",
      " -0.23658805 -0.8243028  -0.8243028  -0.8243028  -0.8243028  -0.8243028\n",
      "  0.3511267  -0.8243028  -0.8243028   1.52655621  1.52655621 -0.8243028\n",
      "  1.52655621 -0.8243028   1.52655621 -0.8243028  -0.8243028  -0.8243028\n",
      " -0.8243028   0.3511267  -0.8243028   1.52655621 -0.8243028   0.3511267\n",
      "  1.52655621 -0.8243028  -0.8243028  -0.8243028   0.3511267  -0.8243028\n",
      " -0.8243028  -0.8243028  -0.8243028   0.3511267  -0.8243028   1.52655621\n",
      " -0.8243028  -0.8243028  -0.8243028   1.52655621 -0.8243028   1.52655621\n",
      " -0.8243028   0.3511267  -0.8243028   0.3511267  -0.8243028  -0.8243028\n",
      "  0.3511267   1.52655621 -0.8243028   0.3511267   1.52655621  0.3511267\n",
      " -0.8243028  -0.8243028  -0.8243028   1.52655621  1.52655621 -0.8243028\n",
      " -0.8243028  -0.8243028   1.52655621  0.3511267   0.3511267  -0.8243028\n",
      " -0.8243028  -0.8243028   1.52655621  0.3511267   0.3511267   0.3511267\n",
      "  1.52655621 -0.8243028   1.52655621  0.3511267  -0.8243028  -0.8243028\n",
      " -0.8243028  -0.8243028   1.52655621 -0.8243028   1.52655621 -0.8243028\n",
      "  1.52655621 -0.8243028  -0.8243028  -0.8243028  -0.8243028  -0.8243028\n",
      "  1.52655621 -0.8243028  -0.8243028  -0.8243028   0.3511267  -0.8243028\n",
      "  1.52655621 -0.8243028  -0.8243028  -0.8243028  -0.8243028   1.52655621\n",
      " -0.8243028   1.52655621 -0.8243028  -1.41201755 -0.8243028   1.52655621\n",
      " -0.8243028   1.52655621  0.3511267   0.3511267   0.3511267  -0.8243028\n",
      " -0.8243028   0.3511267  -0.8243028   1.52655621 -0.8243028  -0.8243028\n",
      " -0.8243028   0.3511267  -0.8243028   0.3511267   1.52655621 -0.8243028\n",
      "  1.52655621]' has dtype incompatible with int64, please explicitly cast to a compatible dtype first.\n",
      "  df_train_norm.loc[:, col_name] = \\\n",
      "/tmp/ipykernel_125857/1135062808.py:7: FutureWarning: Setting an item of incompatible dtype is deprecated and will raise in a future error of pandas. Value '[-0.8243028  -0.8243028  -0.8243028  -0.8243028  -0.8243028  -0.8243028\n",
      " -0.8243028   1.52655621 -0.8243028  -0.8243028   0.3511267  -0.8243028\n",
      "  1.52655621 -0.8243028  -0.8243028   1.52655621 -0.8243028  -0.8243028\n",
      "  1.52655621  0.3511267  -0.8243028   0.3511267   1.52655621  1.52655621\n",
      "  1.52655621  1.52655621 -0.8243028   0.3511267   0.3511267  -0.8243028\n",
      "  1.52655621 -0.8243028   1.52655621  0.3511267   0.3511267   1.52655621\n",
      "  0.3511267   0.3511267  -0.8243028  -0.8243028   1.52655621  1.52655621\n",
      "  0.3511267   0.3511267   0.3511267   0.3511267   1.52655621 -0.8243028\n",
      "  0.3511267   1.52655621  1.52655621  0.3511267  -0.8243028  -0.8243028\n",
      " -0.8243028   0.3511267   0.3511267   0.3511267  -0.8243028  -0.8243028\n",
      "  0.3511267  -0.8243028  -0.8243028   1.52655621  0.3511267   0.3511267\n",
      " -0.8243028   1.52655621 -0.8243028   1.52655621 -0.8243028   1.52655621\n",
      "  1.52655621 -0.8243028  -0.8243028  -0.8243028   1.52655621  1.52655621\n",
      "  1.52655621]' has dtype incompatible with int64, please explicitly cast to a compatible dtype first.\n",
      "  df_test_norm.loc[:, col_name] = \\\n"
     ]
    },
    {
     "data": {
      "text/html": [
       "<div>\n",
       "<style scoped>\n",
       "    .dataframe tbody tr th:only-of-type {\n",
       "        vertical-align: middle;\n",
       "    }\n",
       "\n",
       "    .dataframe tbody tr th {\n",
       "        vertical-align: top;\n",
       "    }\n",
       "\n",
       "    .dataframe thead th {\n",
       "        text-align: right;\n",
       "    }\n",
       "</style>\n",
       "<table border=\"1\" class=\"dataframe\">\n",
       "  <thead>\n",
       "    <tr style=\"text-align: right;\">\n",
       "      <th></th>\n",
       "      <th>MPG</th>\n",
       "      <th>Cylinders</th>\n",
       "      <th>Displacement</th>\n",
       "      <th>Horsepower</th>\n",
       "      <th>Weight</th>\n",
       "      <th>Acceleration</th>\n",
       "      <th>Model Year</th>\n",
       "      <th>Origin</th>\n",
       "    </tr>\n",
       "  </thead>\n",
       "  <tbody>\n",
       "    <tr>\n",
       "      <th>203</th>\n",
       "      <td>28.0</td>\n",
       "      <td>-0.824303</td>\n",
       "      <td>-0.901020</td>\n",
       "      <td>-0.736562</td>\n",
       "      <td>-0.950031</td>\n",
       "      <td>0.255202</td>\n",
       "      <td>76</td>\n",
       "      <td>3</td>\n",
       "    </tr>\n",
       "    <tr>\n",
       "      <th>255</th>\n",
       "      <td>19.4</td>\n",
       "      <td>0.351127</td>\n",
       "      <td>0.413800</td>\n",
       "      <td>-0.340982</td>\n",
       "      <td>0.293190</td>\n",
       "      <td>0.548737</td>\n",
       "      <td>78</td>\n",
       "      <td>1</td>\n",
       "    </tr>\n",
       "    <tr>\n",
       "      <th>72</th>\n",
       "      <td>13.0</td>\n",
       "      <td>1.526556</td>\n",
       "      <td>1.144256</td>\n",
       "      <td>0.713897</td>\n",
       "      <td>1.339617</td>\n",
       "      <td>-0.625403</td>\n",
       "      <td>72</td>\n",
       "      <td>1</td>\n",
       "    </tr>\n",
       "    <tr>\n",
       "      <th>235</th>\n",
       "      <td>30.5</td>\n",
       "      <td>-0.824303</td>\n",
       "      <td>-0.891280</td>\n",
       "      <td>-1.053025</td>\n",
       "      <td>-1.072585</td>\n",
       "      <td>0.475353</td>\n",
       "      <td>77</td>\n",
       "      <td>1</td>\n",
       "    </tr>\n",
       "    <tr>\n",
       "      <th>37</th>\n",
       "      <td>14.0</td>\n",
       "      <td>1.526556</td>\n",
       "      <td>1.563051</td>\n",
       "      <td>1.636916</td>\n",
       "      <td>1.470420</td>\n",
       "      <td>-1.359240</td>\n",
       "      <td>71</td>\n",
       "      <td>1</td>\n",
       "    </tr>\n",
       "  </tbody>\n",
       "</table>\n",
       "</div>"
      ],
      "text/plain": [
       "      MPG  Cylinders  Displacement  Horsepower    Weight  Acceleration  \\\n",
       "203  28.0  -0.824303     -0.901020   -0.736562 -0.950031      0.255202   \n",
       "255  19.4   0.351127      0.413800   -0.340982  0.293190      0.548737   \n",
       "72   13.0   1.526556      1.144256    0.713897  1.339617     -0.625403   \n",
       "235  30.5  -0.824303     -0.891280   -1.053025 -1.072585      0.475353   \n",
       "37   14.0   1.526556      1.563051    1.636916  1.470420     -1.359240   \n",
       "\n",
       "     Model Year  Origin  \n",
       "203          76       3  \n",
       "255          78       1  \n",
       "72           72       1  \n",
       "235          77       1  \n",
       "37           71       1  "
      ]
     },
     "execution_count": 8,
     "metadata": {},
     "output_type": "execute_result"
    }
   ],
   "source": [
    "df_train_norm, df_test_norm = df_train.copy(), df_test.copy()\n",
    "for col_name in numeric_column_names:\n",
    "    mean = train_stats.loc[col_name, 'mean']\n",
    "    std = train_stats.loc[col_name, 'std']\n",
    "    df_train_norm.loc[:, col_name] = \\\n",
    "        (df_train_norm.loc[:, col_name] - mean)/std\n",
    "    df_test_norm.loc[:, col_name] = \\\n",
    "        (df_test_norm.loc[:, col_name] - mean)/std\n",
    "df_train_norm.tail()"
   ]
  },
  {
   "cell_type": "code",
   "execution_count": 10,
   "metadata": {},
   "outputs": [],
   "source": [
    "boundaries = torch.tensor([73, 76, 79])\n",
    "v = torch.tensor(df_train_norm['Model Year'].values)\n",
    "df_train_norm['Model Year Bucketed'] = torch.bucketize(\n",
    "    v, boundaries, right=True\n",
    ")\n",
    "v = torch.tensor(df_test_norm['Model Year'].values)\n",
    "df_test_norm['Model Year Bucketed'] = torch.bucketize(\n",
    "v, boundaries, right=True\n",
    ")\n",
    "numeric_column_names.append('Model Year Bucketed')"
   ]
  },
  {
   "cell_type": "code",
   "execution_count": 11,
   "metadata": {},
   "outputs": [],
   "source": [
    "from torch.nn.functional import one_hot\n",
    "total_origin = len(set(df_train_norm['Origin']))\n",
    "origin_encoded = one_hot(torch.from_numpy(df_train_norm['Origin'].values) % total_origin)\n",
    "x_train_numeric = torch.tensor(df_train_norm[numeric_column_names].values)\n",
    "x_train = torch.cat([x_train_numeric, origin_encoded], 1).float()\n",
    "origin_encoded = one_hot(torch.from_numpy(df_test_norm['Origin'].values) % total_origin)\n",
    "x_test_numeric = torch.tensor(df_test_norm[numeric_column_names].values)\n",
    "x_test = torch.cat([x_test_numeric, origin_encoded], 1).float()\n"
   ]
  },
  {
   "cell_type": "code",
   "execution_count": 12,
   "metadata": {},
   "outputs": [],
   "source": [
    "y_train = torch.tensor(df_train_norm['MPG'].values).float()\n",
    "y_test = torch.tensor(df_test_norm['MPG'].values).float()"
   ]
  },
  {
   "cell_type": "code",
   "execution_count": 14,
   "metadata": {},
   "outputs": [],
   "source": [
    "from torch.utils.data import DataLoader, TensorDataset\n",
    "train_ds = TensorDataset(x_train, y_train)\n",
    "batch_size = 8\n",
    "torch.manual_seed(1)\n",
    "train_dl = DataLoader(train_ds, batch_size=batch_size, shuffle=True)"
   ]
  },
  {
   "cell_type": "code",
   "execution_count": 20,
   "metadata": {},
   "outputs": [],
   "source": [
    "class MyModel(nn.Module):\n",
    "\n",
    "    def __init__(self):\n",
    "        super().__init__()\n",
    "        self.l1 = nn.Linear(in_features=9, out_features=8, bias=True)\n",
    "        self.r1 = nn.ReLU()\n",
    "        self.l2 = nn.Linear(in_features=8, out_features=4, bias=True)\n",
    "        self.r2 = nn.Relu()\n",
    "        self.l3 = nn.Linear(in_features=4, out_features=1, bias=True)\n",
    "\n",
    "        l = [l1, r1, l2, r2, l3]\n",
    "        self.module_list = nn.ModuleList(l)\n",
    "\n",
    "    def forward(self, x):\n",
    "        for f in self.module_list:\n",
    "            x = f(x)\n",
    "        \n",
    "        return x"
   ]
  },
  {
   "cell_type": "code",
   "execution_count": 21,
   "metadata": {},
   "outputs": [
    {
     "ename": "AttributeError",
     "evalue": "module 'torch.nn' has no attribute 'Relu'",
     "output_type": "error",
     "traceback": [
      "\u001b[0;31m---------------------------------------------------------------------------\u001b[0m",
      "\u001b[0;31mAttributeError\u001b[0m                            Traceback (most recent call last)",
      "Cell \u001b[0;32mIn[21], line 1\u001b[0m\n\u001b[0;32m----> 1\u001b[0m model \u001b[38;5;241m=\u001b[39m \u001b[43mMyModel\u001b[49m\u001b[43m(\u001b[49m\u001b[43m)\u001b[49m\n",
      "Cell \u001b[0;32mIn[20], line 8\u001b[0m, in \u001b[0;36mMyModel.__init__\u001b[0;34m(self)\u001b[0m\n\u001b[1;32m      6\u001b[0m \u001b[38;5;28mself\u001b[39m\u001b[38;5;241m.\u001b[39mr1 \u001b[38;5;241m=\u001b[39m nn\u001b[38;5;241m.\u001b[39mReLU()\n\u001b[1;32m      7\u001b[0m \u001b[38;5;28mself\u001b[39m\u001b[38;5;241m.\u001b[39ml2 \u001b[38;5;241m=\u001b[39m nn\u001b[38;5;241m.\u001b[39mLinear(in_features\u001b[38;5;241m=\u001b[39m\u001b[38;5;241m8\u001b[39m, out_features\u001b[38;5;241m=\u001b[39m\u001b[38;5;241m4\u001b[39m, bias\u001b[38;5;241m=\u001b[39m\u001b[38;5;28;01mTrue\u001b[39;00m)\n\u001b[0;32m----> 8\u001b[0m \u001b[38;5;28mself\u001b[39m\u001b[38;5;241m.\u001b[39mr2 \u001b[38;5;241m=\u001b[39m \u001b[43mnn\u001b[49m\u001b[38;5;241;43m.\u001b[39;49m\u001b[43mRelu\u001b[49m()\n\u001b[1;32m      9\u001b[0m \u001b[38;5;28mself\u001b[39m\u001b[38;5;241m.\u001b[39ml3 \u001b[38;5;241m=\u001b[39m nn\u001b[38;5;241m.\u001b[39mLinear(in_features\u001b[38;5;241m=\u001b[39m\u001b[38;5;241m4\u001b[39m, out_features\u001b[38;5;241m=\u001b[39m\u001b[38;5;241m1\u001b[39m, bias\u001b[38;5;241m=\u001b[39m\u001b[38;5;28;01mTrue\u001b[39;00m)\n\u001b[1;32m     11\u001b[0m l \u001b[38;5;241m=\u001b[39m [l1, r1, l2, r2, l3]\n",
      "\u001b[0;31mAttributeError\u001b[0m: module 'torch.nn' has no attribute 'Relu'"
     ]
    }
   ],
   "source": [
    "model = MyModel()"
   ]
  },
  {
   "cell_type": "code",
   "execution_count": null,
   "metadata": {},
   "outputs": [],
   "source": [
    "loss_fn = nn.MSELoss()\n",
    "optimizer = torch.optim.SGD(params=m)"
   ]
  }
 ],
 "metadata": {
  "kernelspec": {
   "display_name": ".venv",
   "language": "python",
   "name": "python3"
  },
  "language_info": {
   "codemirror_mode": {
    "name": "ipython",
    "version": 3
   },
   "file_extension": ".py",
   "mimetype": "text/x-python",
   "name": "python",
   "nbconvert_exporter": "python",
   "pygments_lexer": "ipython3",
   "version": "3.10.12"
  }
 },
 "nbformat": 4,
 "nbformat_minor": 2
}
