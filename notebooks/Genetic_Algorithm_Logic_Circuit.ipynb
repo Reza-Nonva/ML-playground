{
 "cells": [
  {
   "cell_type": "code",
   "outputs": [],
   "source": [
    "می\n",
    "def logic_gate(a, b, gate):\n",
    "    a = bool(a)\n",
    "    b = bool(b)\n",
    "    \n",
    "    # محاسبه خروجی بر اساس نوع گیت\n",
    "    if gate.lower() == \"and\":\n",
    "        return a and b\n",
    "    elif gate.lower() == \"or\":\n",
    "        return a or b\n",
    "    elif gate.lower() == \"nand\":\n",
    "        return not (a and b)\n",
    "    elif gate.lower() == \"nor\":\n",
    "        return not (a or b)\n",
    "    elif gate.lower() == \"buffer\":\n",
    "        return a\n",
    "\n",
    "\n"
   ],
   "metadata": {
    "collapsed": false
   },
   "id": "cab3c940d847cce2"
  },
  {
   "cell_type": "code",
   "execution_count": 9,
   "id": "initial_id",
   "metadata": {
    "collapsed": true,
    "ExecuteTime": {
     "end_time": "2024-11-29T13:59:22.570307259Z",
     "start_time": "2024-11-29T13:59:22.453876265Z"
    }
   },
   "outputs": [
    {
     "name": "stdout",
     "output_type": "stream",
     "text": [
      "Truth table with 4 inputs saved to 'files/truth_table.csv'\n"
     ]
    }
   ],
   "source": [
    "import numpy as np\n",
    "import pandas as pd\n",
    "import itertools\n",
    "\n",
    "def generate_truth_table(num_inputs, output_logic=None):\n",
    "    # Generate all possible input combinations\n",
    "    input_columns = [f\"Input{i+1}\" for i in range(num_inputs)]\n",
    "    combinations = list(itertools.product([0, 1], repeat=num_inputs))\n",
    "    \n",
    "    # Initialize DataFrame\n",
    "    truth_table = pd.DataFrame(combinations, columns=input_columns)\n",
    "    \n",
    "    # Generate Output column based on custom logic\n",
    "    if output_logic:\n",
    "        truth_table['Output'] = truth_table.apply(output_logic, axis=1)\n",
    "    else:\n",
    "        truth_table['Output'] = 0\n",
    "    \n",
    "    return truth_table\n",
    "\n",
    "\n",
    "num_inputs = 4  # Set the number of inputs here\n",
    "output_logic = lambda row: row.sum() % 2\n",
    "\n",
    "truth_table = generate_truth_table(num_inputs, output_logic)\n",
    "truth_table.to_csv('../files/truth_table.csv', index=False)\n",
    "print(f\"Truth table with {num_inputs} inputs saved to 'files/truth_table.csv'\")\n"
   ]
  },
  {
   "cell_type": "code",
   "outputs": [
    {
     "data": {
      "text/plain": "array([[[[ 3.,  1.,  4.,  4.],\n         [ 2.,  3.,  5.,  5.],\n         [ 3.,  4.,  4.,  4.],\n         [ 2.,  2.,  4.,  4.]],\n\n        [[ 7.,  4.,  2.,  2.],\n         [ 3.,  8.,  5.,  5.],\n         [ 8.,  3.,  2.,  2.],\n         [ 3.,  1.,  1.,  1.]],\n\n        [[12., 11.,  5.,  5.],\n         [ 3.,  1.,  1.,  1.],\n         [12., 10.,  4.,  4.],\n         [ 8.,  1.,  5.,  5.]],\n\n        [[10., 12.,  1.,  1.],\n         [ 9.,  1.,  1.,  1.],\n         [16.,  9.,  5.,  5.],\n         [ 9.,  7.,  1.,  1.]]]])"
     },
     "execution_count": 22,
     "metadata": {},
     "output_type": "execute_result"
    }
   ],
   "source": [
    "import numpy as np\n",
    "import random\n",
    "population_count = 1\n",
    "population = np.zeros((population_count, num_inputs, num_inputs, 4))\n",
    "gates_count = 5\n",
    "gates_dictionary = {\n",
    "    1: 'and',\n",
    "    2: 'or',\n",
    "    3: 'nand',\n",
    "    4: 'nor',\n",
    "    5: 'buffer'\n",
    "}\n",
    "def fill_random_population():\n",
    "    global population\n",
    "    global population_count\n",
    "    global gates_count\n",
    "    for i in range(population_count):\n",
    "        for j in range(num_inputs):\n",
    "            for k in range(num_inputs):\n",
    "                input1 = random.randint(1, j*4+4)\n",
    "                input2 = random.randint(1, j*4+4)\n",
    "                gate = random.randint(1, gates_count)\n",
    "                output = gate\n",
    "                population[i][j][k] = [input1, input2, gate, output]\n",
    "\n",
    "\n",
    "\n",
    "fill_random_population()\n"
   ],
   "metadata": {
    "collapsed": false,
    "ExecuteTime": {
     "end_time": "2024-11-29T14:52:16.520357448Z",
     "start_time": "2024-11-29T14:52:16.479662458Z"
    }
   },
   "id": "a58b5ab431770daf",
   "execution_count": 22
  },
  {
   "cell_type": "code",
   "outputs": [],
   "source": [],
   "metadata": {
    "collapsed": false
   },
   "id": "ba39ba42e38d2485"
  }
 ],
 "metadata": {
  "kernelspec": {
   "display_name": "Python 3",
   "language": "python",
   "name": "python3"
  },
  "language_info": {
   "codemirror_mode": {
    "name": "ipython",
    "version": 2
   },
   "file_extension": ".py",
   "mimetype": "text/x-python",
   "name": "python",
   "nbconvert_exporter": "python",
   "pygments_lexer": "ipython2",
   "version": "2.7.6"
  }
 },
 "nbformat": 4,
 "nbformat_minor": 5
}
