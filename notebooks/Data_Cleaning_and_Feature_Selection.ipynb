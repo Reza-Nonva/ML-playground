{
 "cells": [
  {
   "cell_type": "markdown",
   "id": "21425b38275e3106",
   "metadata": {
    "collapsed": false
   },
   "source": [
    "# Data Cleaning and Feature Selection\n",
    "In this notebook, we will focus on preparing a dataset for analysis by cleaning and selecting relevant features.\n",
    "Data cleaning is an essential step to ensure data quality, removing any inconsistencies, missing values, and outliers that may negatively impact the model's performance. Feature selection helps to reduce the dimensionality of the data by identifying the most informative variables, improving computational efficiency and potentially enhancing model accuracy.\n",
    "\n",
    "## Steps Covered:\n",
    "   1. **Data Loading**: Import the dataset and perform an initial inspection.\n",
    "   2. **Data Cleaning**: Identify and handle missing values, outliers, and any inconsistencies.\n",
    "\n",
    "\n",
    "\n",
    "\n",
    "By following these steps, we aim to improve the dataset's quality and structure, making it more suitable for machine learning models."
   ]
  },
  {
   "cell_type": "markdown",
   "id": "357aa4408717860e",
   "metadata": {
    "collapsed": false
   },
   "source": [
    "### 1. Data loading"
   ]
  },
  {
   "cell_type": "code",
   "execution_count": 1,
   "id": "9f94f144681e1328",
   "metadata": {
    "collapsed": false,
    "ExecuteTime": {
     "end_time": "2024-11-29T13:26:09.095177002Z",
     "start_time": "2024-11-29T13:26:07.737261916Z"
    }
   },
   "outputs": [],
   "source": [
    "import pandas as pd\n",
    "\n",
    "df = pd.read_csv(\"../datasets/players20.csv\", encoding='latin1')"
   ]
  },
  {
   "cell_type": "markdown",
   "id": "2f1d09f7e0b1a081",
   "metadata": {
    "collapsed": false
   },
   "source": [
    "### 2. Data cleaning\n",
    "In the first step, we will view the head of the dataframe."
   ]
  },
  {
   "cell_type": "code",
   "execution_count": 2,
   "id": "e3b131eb676554cc",
   "metadata": {
    "collapsed": false,
    "ExecuteTime": {
     "end_time": "2024-11-29T13:26:09.141288165Z",
     "start_time": "2024-11-29T13:26:08.810475502Z"
    }
   },
   "outputs": [
    {
     "data": {
      "text/plain": "                        Team              Player     # Class Pos       Height  \\\n0  Youngstown State Penguins  Darius Quisenberry   3.0    SO   G  1-Shahrivar   \n1  Youngstown State Penguins       NaNz Bohannon  33.0    JR   F  6-Shahrivar   \n2  Youngstown State Penguins     Michael Akuchie  31.0    JR   F  8-Shahrivar   \n3  Youngstown State Penguins   Garrett Covington  32.0    JR   G  5-Shahrivar   \n4  Youngstown State Penguins  Donel Cathcart III  13.0    SR   G  5-Shahrivar   \n\n   Weight         Hometown                      High School  \\\n0   186.0  Springfield, OH           Huber Heights Wayne HS   \n1   230.0       Lorain, OH               Lorain High School   \n2   212.0   Plantation, FL  St. Thomas AquiNaNs High School   \n3   216.0       Carmel, IN               Carmel High School   \n4   190.0      Buffalo, NY              CardiNaNl O'Hara HS   \n\n                      Summary  ...  BLK%  TOV%  USG%  OWS  DWS   WS  WS/40  \\\n0  16.7 Pts, 3.7 Reb, 4.1 Ast  ...   0.2  14.4  28.3  2.7  0.9  3.7  0.156   \n1  11.1 Pts, 8.8 Reb, 2.4 Ast  ...   0.6  19.0  19.2  1.9  0.8  2.7  0.111   \n2   9.1 Pts, 6.2 Reb, 0.6 Ast  ...   2.9   9.4  18.0  1.7  1.0  2.7  0.139   \n3   8.0 Pts, 3.7 Reb, 0.8 Ast  ...   0.5  13.4  18.6  0.7  0.4  1.2  0.063   \n4   7.1 Pts, 3.1 Reb, 1.2 Ast  ...   0.9  13.6  18.2  0.9  0.5  1.4  0.085   \n\n   OBPM  DBPM  BPM  \n0   2.9  -1.6  1.3  \n1   0.2   0.0  0.2  \n2   1.0  -0.3  0.7  \n3  -2.4  -2.1 -4.6  \n4  -1.2  -1.9 -3.1  \n\n[5 rows x 57 columns]",
      "text/html": "<div>\n<style scoped>\n    .dataframe tbody tr th:only-of-type {\n        vertical-align: middle;\n    }\n\n    .dataframe tbody tr th {\n        vertical-align: top;\n    }\n\n    .dataframe thead th {\n        text-align: right;\n    }\n</style>\n<table border=\"1\" class=\"dataframe\">\n  <thead>\n    <tr style=\"text-align: right;\">\n      <th></th>\n      <th>Team</th>\n      <th>Player</th>\n      <th>#</th>\n      <th>Class</th>\n      <th>Pos</th>\n      <th>Height</th>\n      <th>Weight</th>\n      <th>Hometown</th>\n      <th>High School</th>\n      <th>Summary</th>\n      <th>...</th>\n      <th>BLK%</th>\n      <th>TOV%</th>\n      <th>USG%</th>\n      <th>OWS</th>\n      <th>DWS</th>\n      <th>WS</th>\n      <th>WS/40</th>\n      <th>OBPM</th>\n      <th>DBPM</th>\n      <th>BPM</th>\n    </tr>\n  </thead>\n  <tbody>\n    <tr>\n      <th>0</th>\n      <td>Youngstown State Penguins</td>\n      <td>Darius Quisenberry</td>\n      <td>3.0</td>\n      <td>SO</td>\n      <td>G</td>\n      <td>1-Shahrivar</td>\n      <td>186.0</td>\n      <td>Springfield, OH</td>\n      <td>Huber Heights Wayne HS</td>\n      <td>16.7 Pts, 3.7 Reb, 4.1 Ast</td>\n      <td>...</td>\n      <td>0.2</td>\n      <td>14.4</td>\n      <td>28.3</td>\n      <td>2.7</td>\n      <td>0.9</td>\n      <td>3.7</td>\n      <td>0.156</td>\n      <td>2.9</td>\n      <td>-1.6</td>\n      <td>1.3</td>\n    </tr>\n    <tr>\n      <th>1</th>\n      <td>Youngstown State Penguins</td>\n      <td>NaNz Bohannon</td>\n      <td>33.0</td>\n      <td>JR</td>\n      <td>F</td>\n      <td>6-Shahrivar</td>\n      <td>230.0</td>\n      <td>Lorain, OH</td>\n      <td>Lorain High School</td>\n      <td>11.1 Pts, 8.8 Reb, 2.4 Ast</td>\n      <td>...</td>\n      <td>0.6</td>\n      <td>19.0</td>\n      <td>19.2</td>\n      <td>1.9</td>\n      <td>0.8</td>\n      <td>2.7</td>\n      <td>0.111</td>\n      <td>0.2</td>\n      <td>0.0</td>\n      <td>0.2</td>\n    </tr>\n    <tr>\n      <th>2</th>\n      <td>Youngstown State Penguins</td>\n      <td>Michael Akuchie</td>\n      <td>31.0</td>\n      <td>JR</td>\n      <td>F</td>\n      <td>8-Shahrivar</td>\n      <td>212.0</td>\n      <td>Plantation, FL</td>\n      <td>St. Thomas AquiNaNs High School</td>\n      <td>9.1 Pts, 6.2 Reb, 0.6 Ast</td>\n      <td>...</td>\n      <td>2.9</td>\n      <td>9.4</td>\n      <td>18.0</td>\n      <td>1.7</td>\n      <td>1.0</td>\n      <td>2.7</td>\n      <td>0.139</td>\n      <td>1.0</td>\n      <td>-0.3</td>\n      <td>0.7</td>\n    </tr>\n    <tr>\n      <th>3</th>\n      <td>Youngstown State Penguins</td>\n      <td>Garrett Covington</td>\n      <td>32.0</td>\n      <td>JR</td>\n      <td>G</td>\n      <td>5-Shahrivar</td>\n      <td>216.0</td>\n      <td>Carmel, IN</td>\n      <td>Carmel High School</td>\n      <td>8.0 Pts, 3.7 Reb, 0.8 Ast</td>\n      <td>...</td>\n      <td>0.5</td>\n      <td>13.4</td>\n      <td>18.6</td>\n      <td>0.7</td>\n      <td>0.4</td>\n      <td>1.2</td>\n      <td>0.063</td>\n      <td>-2.4</td>\n      <td>-2.1</td>\n      <td>-4.6</td>\n    </tr>\n    <tr>\n      <th>4</th>\n      <td>Youngstown State Penguins</td>\n      <td>Donel Cathcart III</td>\n      <td>13.0</td>\n      <td>SR</td>\n      <td>G</td>\n      <td>5-Shahrivar</td>\n      <td>190.0</td>\n      <td>Buffalo, NY</td>\n      <td>CardiNaNl O'Hara HS</td>\n      <td>7.1 Pts, 3.1 Reb, 1.2 Ast</td>\n      <td>...</td>\n      <td>0.9</td>\n      <td>13.6</td>\n      <td>18.2</td>\n      <td>0.9</td>\n      <td>0.5</td>\n      <td>1.4</td>\n      <td>0.085</td>\n      <td>-1.2</td>\n      <td>-1.9</td>\n      <td>-3.1</td>\n    </tr>\n  </tbody>\n</table>\n<p>5 rows × 57 columns</p>\n</div>"
     },
     "execution_count": 2,
     "metadata": {},
     "output_type": "execute_result"
    }
   ],
   "source": [
    "df.head()"
   ]
  },
  {
   "cell_type": "markdown",
   "id": "2195160ae00f17b0",
   "metadata": {
    "collapsed": false
   },
   "source": [
    "Then, we will check the shape of the dataframe."
   ]
  },
  {
   "cell_type": "code",
   "execution_count": 3,
   "id": "244285c88a1e5a20",
   "metadata": {
    "collapsed": false,
    "ExecuteTime": {
     "end_time": "2024-11-29T13:26:09.327784446Z",
     "start_time": "2024-11-29T13:26:09.077561978Z"
    }
   },
   "outputs": [
    {
     "data": {
      "text/plain": "(5452, 57)"
     },
     "execution_count": 3,
     "metadata": {},
     "output_type": "execute_result"
    }
   ],
   "source": [
    "df.shape"
   ]
  },
  {
   "cell_type": "markdown",
   "id": "5a533e9ec6129444",
   "metadata": {
    "collapsed": false
   },
   "source": [
    "Then we will check the information about the dataset"
   ]
  },
  {
   "cell_type": "code",
   "execution_count": 4,
   "id": "340e536df18a60ec",
   "metadata": {
    "collapsed": false,
    "ExecuteTime": {
     "end_time": "2024-11-29T13:26:09.655642862Z",
     "start_time": "2024-11-29T13:26:09.245117188Z"
    }
   },
   "outputs": [
    {
     "name": "stdout",
     "output_type": "stream",
     "text": [
      "<class 'pandas.core.frame.DataFrame'>\n",
      "RangeIndex: 5452 entries, 0 to 5451\n",
      "Data columns (total 57 columns):\n",
      " #   Column       Non-Null Count  Dtype  \n",
      "---  ------       --------------  -----  \n",
      " 0   Team         5452 non-null   object \n",
      " 1   Player       5452 non-null   object \n",
      " 2   #            5429 non-null   float64\n",
      " 3   Class        5409 non-null   object \n",
      " 4   Pos          5452 non-null   object \n",
      " 5   Height       5451 non-null   object \n",
      " 6   Weight       5448 non-null   float64\n",
      " 7   Hometown     5323 non-null   object \n",
      " 8   High School  4729 non-null   object \n",
      " 9   Summary      4791 non-null   object \n",
      " 10  Rk.x         4791 non-null   float64\n",
      " 11  G            4791 non-null   float64\n",
      " 12  GS           4791 non-null   float64\n",
      " 13  MP           4791 non-null   float64\n",
      " 14  FG           4791 non-null   float64\n",
      " 15  FGA          4791 non-null   float64\n",
      " 16  FG%          4626 non-null   float64\n",
      " 17  2P           4791 non-null   float64\n",
      " 18  2PA          4791 non-null   float64\n",
      " 19  2P%          4489 non-null   float64\n",
      " 20  3P           4791 non-null   float64\n",
      " 21  3PA          4791 non-null   float64\n",
      " 22  3P%          4002 non-null   float64\n",
      " 23  FT           4791 non-null   float64\n",
      " 24  FTA          4791 non-null   float64\n",
      " 25  FT%          4196 non-null   float64\n",
      " 26  ORB          4791 non-null   float64\n",
      " 27  DRB          4791 non-null   float64\n",
      " 28  TRB          4791 non-null   float64\n",
      " 29  AST          4791 non-null   float64\n",
      " 30  STL          4791 non-null   float64\n",
      " 31  BLK          4791 non-null   float64\n",
      " 32  TOV          4791 non-null   float64\n",
      " 33  PF           4791 non-null   float64\n",
      " 34  PTS          4791 non-null   float64\n",
      " 35  Rk.y         4791 non-null   float64\n",
      " 36  PER          4758 non-null   float64\n",
      " 37  TS%          4644 non-null   float64\n",
      " 38  eFG%         4626 non-null   float64\n",
      " 39  3PAr         4626 non-null   float64\n",
      " 40  FTr          4626 non-null   float64\n",
      " 41  PProd        4758 non-null   float64\n",
      " 42  ORB%         4758 non-null   float64\n",
      " 43  DRB%         4758 non-null   float64\n",
      " 44  TRB%         4758 non-null   float64\n",
      " 45  AST%         4758 non-null   float64\n",
      " 46  STL%         4758 non-null   float64\n",
      " 47  BLK%         4758 non-null   float64\n",
      " 48  TOV%         4675 non-null   float64\n",
      " 49  USG%         4758 non-null   float64\n",
      " 50  OWS          4791 non-null   float64\n",
      " 51  DWS          4791 non-null   float64\n",
      " 52  WS           4791 non-null   float64\n",
      " 53  WS/40        4758 non-null   float64\n",
      " 54  OBPM         4791 non-null   float64\n",
      " 55  DBPM         4791 non-null   float64\n",
      " 56  BPM          4791 non-null   float64\n",
      "dtypes: float64(49), object(8)\n",
      "memory usage: 2.4+ MB\n"
     ]
    }
   ],
   "source": [
    "df.info()"
   ]
  },
  {
   "cell_type": "code",
   "execution_count": 5,
   "id": "e385be85a0503eac",
   "metadata": {
    "collapsed": false,
    "ExecuteTime": {
     "end_time": "2024-11-29T13:26:10.047865383Z",
     "start_time": "2024-11-29T13:26:09.488707591Z"
    }
   },
   "outputs": [
    {
     "data": {
      "text/plain": "Team              0\nPlayer            0\n#                23\nClass            43\nPos               0\nHeight            1\nWeight            4\nHometown        129\nHigh School     723\nSummary         661\nRk.x            661\nG               661\nGS              661\nMP              661\nFG              661\nFGA             661\nFG%             826\n2P              661\n2PA             661\n2P%             963\n3P              661\n3PA             661\n3P%            1450\nFT              661\nFTA             661\nFT%            1256\nORB             661\nDRB             661\nTRB             661\nAST             661\nSTL             661\nBLK             661\nTOV             661\nPF              661\nPTS             661\nRk.y            661\nPER             694\nTS%             808\neFG%            826\n3PAr            826\nFTr             826\nPProd           694\nORB%            694\nDRB%            694\nTRB%            694\nAST%            694\nSTL%            694\nBLK%            694\nTOV%            777\nUSG%            694\nOWS             661\nDWS             661\nWS              661\nWS/40           694\nOBPM            661\nDBPM            661\nBPM             661\ndtype: int64"
     },
     "execution_count": 5,
     "metadata": {},
     "output_type": "execute_result"
    }
   ],
   "source": [
    "df.isnull().sum()"
   ]
  },
  {
   "cell_type": "code",
   "execution_count": 6,
   "id": "459d2b92969fb8f7",
   "metadata": {
    "collapsed": false,
    "ExecuteTime": {
     "end_time": "2024-11-29T13:26:10.634626175Z",
     "start_time": "2024-11-29T13:26:09.954846966Z"
    }
   },
   "outputs": [
    {
     "data": {
      "text/plain": "                 #       Weight         Rk.x            G           GS  \\\ncount  5429.000000  5448.000000  4791.000000  4791.000000  4791.000000   \nmean     15.220114   201.455764     7.385723    20.753287    10.460238   \nstd      12.609199    24.757133     4.090398     9.223239    11.284462   \nmin       0.000000    85.000000     1.000000     1.000000     0.000000   \n25%       4.000000   185.000000     4.000000    14.000000     0.000000   \n50%      13.000000   200.000000     7.000000    25.000000     5.000000   \n75%      23.000000   217.000000    11.000000    28.000000    22.000000   \nmax      85.000000   325.000000    22.000000    31.000000    31.000000   \n\n                MP           FG          FGA          FG%           2P  ...  \\\ncount  4791.000000  4791.000000  4791.000000  4626.000000  4791.000000  ...   \nmean    421.872052    52.985181   121.059069     0.421408    37.769568  ...   \nstd     317.949289    49.456132   109.753100     0.153579    39.156635  ...   \nmin       0.000000     0.000000     0.000000     0.000000     0.000000  ...   \n25%     107.500000     9.000000    22.000000     0.364000     5.000000  ...   \n50%     410.000000    41.000000    95.000000     0.422000    26.000000  ...   \n75%     698.500000    85.000000   196.000000     0.491000    59.000000  ...   \nmax    1128.000000   260.000000   611.000000     1.000000   244.000000  ...   \n\n              BLK%         TOV%         USG%          OWS          DWS  \\\ncount  4758.000000  4675.000000  4758.000000  4791.000000  4791.000000   \nmean      1.879445    17.627722    18.630097     0.591463     0.541828   \nstd       3.171798    11.389599     6.960346     0.830791     0.521812   \nmin       0.000000     0.000000     0.000000    -1.300000    -0.700000   \n25%       0.000000    12.300000    14.700000     0.000000     0.100000   \n50%       0.900000    16.200000    18.300000     0.300000     0.400000   \n75%       2.500000    20.900000    22.300000     1.000000     0.900000   \nmax      95.700000   100.000000   100.000000     5.000000     3.100000   \n\n                WS        WS/40         OBPM         DBPM          BPM  \ncount  4791.000000  4758.000000  4791.000000  4791.000000  4791.000000  \nmean      1.135671     0.081142    -1.742601    -0.320372    -2.062993  \nstd       1.240070     0.126312     6.214585     3.905971     7.925064  \nmin      -0.900000    -1.379000   -71.900000   -30.500000   -78.500000  \n25%       0.100000     0.042250    -4.100000    -2.200000    -5.100000  \n50%       0.800000     0.090000    -1.200000    -0.300000    -1.600000  \n75%       1.800000     0.134000     1.200000     1.700000     2.100000  \nmax       6.500000     2.598000    96.600000    57.600000    77.500000  \n\n[8 rows x 49 columns]",
      "text/html": "<div>\n<style scoped>\n    .dataframe tbody tr th:only-of-type {\n        vertical-align: middle;\n    }\n\n    .dataframe tbody tr th {\n        vertical-align: top;\n    }\n\n    .dataframe thead th {\n        text-align: right;\n    }\n</style>\n<table border=\"1\" class=\"dataframe\">\n  <thead>\n    <tr style=\"text-align: right;\">\n      <th></th>\n      <th>#</th>\n      <th>Weight</th>\n      <th>Rk.x</th>\n      <th>G</th>\n      <th>GS</th>\n      <th>MP</th>\n      <th>FG</th>\n      <th>FGA</th>\n      <th>FG%</th>\n      <th>2P</th>\n      <th>...</th>\n      <th>BLK%</th>\n      <th>TOV%</th>\n      <th>USG%</th>\n      <th>OWS</th>\n      <th>DWS</th>\n      <th>WS</th>\n      <th>WS/40</th>\n      <th>OBPM</th>\n      <th>DBPM</th>\n      <th>BPM</th>\n    </tr>\n  </thead>\n  <tbody>\n    <tr>\n      <th>count</th>\n      <td>5429.000000</td>\n      <td>5448.000000</td>\n      <td>4791.000000</td>\n      <td>4791.000000</td>\n      <td>4791.000000</td>\n      <td>4791.000000</td>\n      <td>4791.000000</td>\n      <td>4791.000000</td>\n      <td>4626.000000</td>\n      <td>4791.000000</td>\n      <td>...</td>\n      <td>4758.000000</td>\n      <td>4675.000000</td>\n      <td>4758.000000</td>\n      <td>4791.000000</td>\n      <td>4791.000000</td>\n      <td>4791.000000</td>\n      <td>4758.000000</td>\n      <td>4791.000000</td>\n      <td>4791.000000</td>\n      <td>4791.000000</td>\n    </tr>\n    <tr>\n      <th>mean</th>\n      <td>15.220114</td>\n      <td>201.455764</td>\n      <td>7.385723</td>\n      <td>20.753287</td>\n      <td>10.460238</td>\n      <td>421.872052</td>\n      <td>52.985181</td>\n      <td>121.059069</td>\n      <td>0.421408</td>\n      <td>37.769568</td>\n      <td>...</td>\n      <td>1.879445</td>\n      <td>17.627722</td>\n      <td>18.630097</td>\n      <td>0.591463</td>\n      <td>0.541828</td>\n      <td>1.135671</td>\n      <td>0.081142</td>\n      <td>-1.742601</td>\n      <td>-0.320372</td>\n      <td>-2.062993</td>\n    </tr>\n    <tr>\n      <th>std</th>\n      <td>12.609199</td>\n      <td>24.757133</td>\n      <td>4.090398</td>\n      <td>9.223239</td>\n      <td>11.284462</td>\n      <td>317.949289</td>\n      <td>49.456132</td>\n      <td>109.753100</td>\n      <td>0.153579</td>\n      <td>39.156635</td>\n      <td>...</td>\n      <td>3.171798</td>\n      <td>11.389599</td>\n      <td>6.960346</td>\n      <td>0.830791</td>\n      <td>0.521812</td>\n      <td>1.240070</td>\n      <td>0.126312</td>\n      <td>6.214585</td>\n      <td>3.905971</td>\n      <td>7.925064</td>\n    </tr>\n    <tr>\n      <th>min</th>\n      <td>0.000000</td>\n      <td>85.000000</td>\n      <td>1.000000</td>\n      <td>1.000000</td>\n      <td>0.000000</td>\n      <td>0.000000</td>\n      <td>0.000000</td>\n      <td>0.000000</td>\n      <td>0.000000</td>\n      <td>0.000000</td>\n      <td>...</td>\n      <td>0.000000</td>\n      <td>0.000000</td>\n      <td>0.000000</td>\n      <td>-1.300000</td>\n      <td>-0.700000</td>\n      <td>-0.900000</td>\n      <td>-1.379000</td>\n      <td>-71.900000</td>\n      <td>-30.500000</td>\n      <td>-78.500000</td>\n    </tr>\n    <tr>\n      <th>25%</th>\n      <td>4.000000</td>\n      <td>185.000000</td>\n      <td>4.000000</td>\n      <td>14.000000</td>\n      <td>0.000000</td>\n      <td>107.500000</td>\n      <td>9.000000</td>\n      <td>22.000000</td>\n      <td>0.364000</td>\n      <td>5.000000</td>\n      <td>...</td>\n      <td>0.000000</td>\n      <td>12.300000</td>\n      <td>14.700000</td>\n      <td>0.000000</td>\n      <td>0.100000</td>\n      <td>0.100000</td>\n      <td>0.042250</td>\n      <td>-4.100000</td>\n      <td>-2.200000</td>\n      <td>-5.100000</td>\n    </tr>\n    <tr>\n      <th>50%</th>\n      <td>13.000000</td>\n      <td>200.000000</td>\n      <td>7.000000</td>\n      <td>25.000000</td>\n      <td>5.000000</td>\n      <td>410.000000</td>\n      <td>41.000000</td>\n      <td>95.000000</td>\n      <td>0.422000</td>\n      <td>26.000000</td>\n      <td>...</td>\n      <td>0.900000</td>\n      <td>16.200000</td>\n      <td>18.300000</td>\n      <td>0.300000</td>\n      <td>0.400000</td>\n      <td>0.800000</td>\n      <td>0.090000</td>\n      <td>-1.200000</td>\n      <td>-0.300000</td>\n      <td>-1.600000</td>\n    </tr>\n    <tr>\n      <th>75%</th>\n      <td>23.000000</td>\n      <td>217.000000</td>\n      <td>11.000000</td>\n      <td>28.000000</td>\n      <td>22.000000</td>\n      <td>698.500000</td>\n      <td>85.000000</td>\n      <td>196.000000</td>\n      <td>0.491000</td>\n      <td>59.000000</td>\n      <td>...</td>\n      <td>2.500000</td>\n      <td>20.900000</td>\n      <td>22.300000</td>\n      <td>1.000000</td>\n      <td>0.900000</td>\n      <td>1.800000</td>\n      <td>0.134000</td>\n      <td>1.200000</td>\n      <td>1.700000</td>\n      <td>2.100000</td>\n    </tr>\n    <tr>\n      <th>max</th>\n      <td>85.000000</td>\n      <td>325.000000</td>\n      <td>22.000000</td>\n      <td>31.000000</td>\n      <td>31.000000</td>\n      <td>1128.000000</td>\n      <td>260.000000</td>\n      <td>611.000000</td>\n      <td>1.000000</td>\n      <td>244.000000</td>\n      <td>...</td>\n      <td>95.700000</td>\n      <td>100.000000</td>\n      <td>100.000000</td>\n      <td>5.000000</td>\n      <td>3.100000</td>\n      <td>6.500000</td>\n      <td>2.598000</td>\n      <td>96.600000</td>\n      <td>57.600000</td>\n      <td>77.500000</td>\n    </tr>\n  </tbody>\n</table>\n<p>8 rows × 49 columns</p>\n</div>"
     },
     "execution_count": 6,
     "metadata": {},
     "output_type": "execute_result"
    }
   ],
   "source": [
    "df.describe()"
   ]
  },
  {
   "cell_type": "markdown",
   "id": "fa2c7ea6de437abb",
   "metadata": {
    "collapsed": false
   },
   "source": [
    "#### 2-1. delete rows with an Unknown class"
   ]
  },
  {
   "cell_type": "markdown",
   "id": "256dcc69d8244e9b",
   "metadata": {
    "collapsed": false
   },
   "source": [
    "In the first step, we should delete the rows (examples) with an unknown class."
   ]
  },
  {
   "cell_type": "code",
   "execution_count": 7,
   "id": "ff695010e18f7dd8",
   "metadata": {
    "collapsed": false,
    "ExecuteTime": {
     "end_time": "2024-11-29T13:26:10.810054242Z",
     "start_time": "2024-11-29T13:26:10.583432381Z"
    }
   },
   "outputs": [
    {
     "data": {
      "text/plain": "(5409, 57)"
     },
     "execution_count": 7,
     "metadata": {},
     "output_type": "execute_result"
    }
   ],
   "source": [
    "df = df.dropna(subset=['Class'])\n",
    "df.shape"
   ]
  },
  {
   "cell_type": "markdown",
   "id": "9ae2597044a1fa2b",
   "metadata": {
    "collapsed": false
   },
   "source": [
    "#### 2-1. Cleaning numeric data"
   ]
  },
  {
   "cell_type": "markdown",
   "id": "1978cd011ccba918",
   "metadata": {
    "collapsed": false
   },
   "source": [
    "We noticed that the `Height` column in the dataframe contains incorrect values. For example, \"1-Shahrivar\" is equivalent to \"6-1 foot.\" We need to correct the values in this column."
   ]
  },
  {
   "cell_type": "code",
   "execution_count": 8,
   "id": "5eabc0e253c65a0c",
   "metadata": {
    "collapsed": false,
    "ExecuteTime": {
     "end_time": "2024-11-29T13:26:11.147785470Z",
     "start_time": "2024-11-29T13:26:10.726661911Z"
    }
   },
   "outputs": [
    {
     "name": "stdout",
     "output_type": "stream",
     "text": [
      "Number of rows with undefined Height: 1\n",
      "Number of rows with undefined Weight: 4\n",
      "Number of rows with undefined #: 21\n"
     ]
    }
   ],
   "source": [
    "def fix_height(value):\n",
    "    \n",
    "    if pd.isnull(value) or isinstance(value, (float, int)):\n",
    "        return value\n",
    "    \n",
    "    convert_dict = {\n",
    "        'Tir': 4,\n",
    "        'Mordad': 5,\n",
    "        'Shahrivar': 6,\n",
    "        'Mehr': 7\n",
    "    }\n",
    "    \n",
    "    try:\n",
    "        inches, feet = value.split('-')\n",
    "        inches = int(inches)\n",
    "        \n",
    "        if feet == '0':\n",
    "            feet = inches\n",
    "            return int(feet) * 30.48\n",
    "        \n",
    "        feet = convert_dict.get(feet, 0)\n",
    "        return (feet * 30.48) + (inches * 2.54)\n",
    "    except Exception as e:\n",
    "        print(f\"Error processing value {value}: {e}\")\n",
    "        return value\n",
    "    \n",
    "df['Height'] = df['Height'].apply(fix_height)\n",
    "\n",
    "print('Number of rows with undefined Height:', df['Height'].isnull().sum())\n",
    "print('Number of rows with undefined Weight:', df['Weight'].isnull().sum())\n",
    "print('Number of rows with undefined #:', df['#'].isnull().sum())"
   ]
  },
  {
   "cell_type": "markdown",
   "id": "878ec4eb408cb3ea",
   "metadata": {
    "collapsed": false
   },
   "source": [
    "impute this 26 rows by mean strategy."
   ]
  },
  {
   "cell_type": "code",
   "execution_count": 9,
   "id": "9af4d4cd7420469d",
   "metadata": {
    "collapsed": false,
    "ExecuteTime": {
     "end_time": "2024-11-29T13:26:11.298402580Z",
     "start_time": "2024-11-29T13:26:10.947040607Z"
    }
   },
   "outputs": [],
   "source": [
    "df['Height'] = df['Height'].fillna(df['Height'].mean())\n",
    "df['Weight'] = df['Weight'].fillna(df['Weight'].mean())\n",
    "df['#'] = df['#'].fillna(int(df['#'].mean()))"
   ]
  },
  {
   "cell_type": "code",
   "execution_count": 10,
   "id": "54ca7f6751fa08b3",
   "metadata": {
    "collapsed": false,
    "ExecuteTime": {
     "end_time": "2024-11-29T13:26:12.998711795Z",
     "start_time": "2024-11-29T13:26:11.314299561Z"
    }
   },
   "outputs": [
    {
     "data": {
      "text/plain": "Team              0\nPlayer            0\n#                 0\nClass             0\nPos               0\nHeight            0\nWeight            0\nHometown        127\nHigh School     714\nSummary         657\nRk.x            657\nG               657\nGS              657\nMP              657\nFG              657\nFGA             657\nFG%             812\n2P              657\n2PA             657\n2P%             944\n3P              657\n3PA             657\n3P%            1429\nFT              657\nFTA             657\nFT%            1228\nORB             657\nDRB             657\nTRB             657\nAST             657\nSTL             657\nBLK             657\nTOV             657\nPF              657\nPTS             657\nRk.y            657\nPER             690\nTS%             796\neFG%            812\n3PAr            812\nFTr             812\nPProd           690\nORB%            690\nDRB%            690\nTRB%            690\nAST%            690\nSTL%            690\nBLK%            690\nTOV%            765\nUSG%            690\nOWS             657\nDWS             657\nWS              657\nWS/40           690\nOBPM            657\nDBPM            657\nBPM             657\ndtype: int64"
     },
     "execution_count": 10,
     "metadata": {},
     "output_type": "execute_result"
    }
   ],
   "source": [
    "df.isnull().sum()"
   ]
  },
  {
   "cell_type": "markdown",
   "id": "96deac3fdd28518",
   "metadata": {
    "collapsed": false
   },
   "source": [
    "With the above information, we understand that some columns have 657 missing values. We consider calculating the number of columns with NaN values exceeding 657, setting this count as the threshold, and removing rows with NaN values exceeding this threshold."
   ]
  },
  {
   "cell_type": "code",
   "execution_count": 11,
   "id": "f4f02b05e39b9e29",
   "metadata": {
    "collapsed": false,
    "ExecuteTime": {
     "end_time": "2024-11-29T13:26:13.302423938Z",
     "start_time": "2024-11-29T13:26:12.878446834Z"
    }
   },
   "outputs": [
    {
     "data": {
      "text/plain": "Team             0\nPlayer           0\n#                0\nClass            0\nPos              0\nHeight           0\nWeight           0\nHometown       109\nHigh School    594\nSummary          0\nRk.x             0\nG                0\nGS               0\nMP               0\nFG               0\nFGA              0\nFG%             40\n2P               0\n2PA              0\n2P%            171\n3P               0\n3PA              0\n3P%            655\nFT               0\nFTA              0\nFT%            453\nORB              0\nDRB              0\nTRB              0\nAST              0\nSTL              0\nBLK              0\nTOV              0\nPF               0\nPTS              0\nRk.y             0\nPER              0\nTS%             24\neFG%            40\n3PAr            40\nFTr             40\nPProd            0\nORB%             0\nDRB%             0\nTRB%             0\nAST%             0\nSTL%             0\nBLK%             0\nTOV%             0\nUSG%             0\nOWS              0\nDWS              0\nWS               0\nWS/40            0\nOBPM             0\nDBPM             0\nBPM              0\ndtype: int64"
     },
     "execution_count": 11,
     "metadata": {},
     "output_type": "execute_result"
    }
   ],
   "source": [
    "nan_counts = df.isnull().sum()  \n",
    "columns_with_nan_more_than_657 = nan_counts[nan_counts >= 657]\n",
    "threshold = len(columns_with_nan_more_than_657)\n",
    "df = df.dropna(thresh=threshold)\n",
    "df.isnull().sum()"
   ]
  },
  {
   "cell_type": "markdown",
   "id": "8769ed50d5f26a71",
   "metadata": {
    "collapsed": false
   },
   "source": [
    "Some rows have NaN values in FG%, 2P%, 3P%, and FT%. For example, if we divide 2P by 2PA, we can calculate 2P%. We are going to fill these cells."
   ]
  },
  {
   "cell_type": "code",
   "execution_count": 12,
   "id": "96b9e05e462f06f8",
   "metadata": {
    "collapsed": false,
    "ExecuteTime": {
     "end_time": "2024-11-29T13:26:14.227269534Z",
     "start_time": "2024-11-29T13:26:13.191311521Z"
    }
   },
   "outputs": [
    {
     "data": {
      "text/plain": "Team             0\nPlayer           0\n#                0\nClass            0\nPos              0\nHeight           0\nWeight           0\nHometown       109\nHigh School    594\nSummary          0\nRk.x             0\nG                0\nGS               0\nMP               0\nFG               0\nFGA              0\nFG%              0\n2P               0\n2PA              0\n2P%              0\n3P               0\n3PA              0\n3P%              0\nFT               0\nFTA              0\nFT%              0\nORB              0\nDRB              0\nTRB              0\nAST              0\nSTL              0\nBLK              0\nTOV              0\nPF               0\nPTS              0\nRk.y             0\nPER              0\nTS%             24\neFG%            40\n3PAr            40\nFTr             40\nPProd            0\nORB%             0\nDRB%             0\nTRB%             0\nAST%             0\nSTL%             0\nBLK%             0\nTOV%             0\nUSG%             0\nOWS              0\nDWS              0\nWS               0\nWS/40            0\nOBPM             0\nDBPM             0\nBPM              0\ndtype: int64"
     },
     "execution_count": 12,
     "metadata": {},
     "output_type": "execute_result"
    }
   ],
   "source": [
    "df['2P%'] = df.apply(lambda row: round(row['2P'] / row['2PA'], 3) if pd.isnull(row['2P%']) and row['2PA'] != 0 else (0 if pd.isnull(row['2P%']) and row['2PA'] == 0 else row['2P%']), axis=1)\n",
    "\n",
    "df['3P%'] = df.apply(lambda row: round(row['3P'] / row['3PA'], 3) if pd.isnull(row['3P%']) and row['3PA'] != 0 else (0 if pd.isnull(row['3P%']) and row['3PA'] == 0 else row['3P%']), axis=1)\n",
    "\n",
    "df['FT%'] = df.apply(lambda row: round(row['FT'] / row['FTA'], 3) if pd.isnull(row['FT%']) and row['FTA'] != 0 else (0 if pd.isnull(row['FT%']) and row['FTA'] == 0 else row['FT%']), axis=1)\n",
    "\n",
    "df['FG%'] = df.apply(lambda row: round(row['FG'] / row['FGA'], 3) if pd.isnull(row['FG%']) and row['FGA'] != 0 else (0 if pd.isnull(row['FG%']) and row['FGA'] == 0 else row['FG%']), axis=1)\n",
    "\n",
    "df.isnull().sum()"
   ]
  },
  {
   "cell_type": "markdown",
   "id": "5430d793540ae2e1",
   "metadata": {
    "collapsed": false
   },
   "source": [
    "We can't calculate the FTr, 3PAr, eFG%, and TS% columns, so we are going to delete the rows with NaN values in these columns."
   ]
  },
  {
   "cell_type": "code",
   "execution_count": 13,
   "id": "7737f10752c1ba47",
   "metadata": {
    "collapsed": false,
    "ExecuteTime": {
     "end_time": "2024-11-29T13:26:14.545770580Z",
     "start_time": "2024-11-29T13:26:14.156512869Z"
    }
   },
   "outputs": [
    {
     "data": {
      "text/plain": "Team             0\nPlayer           0\n#                0\nClass            0\nPos              0\nHeight           0\nWeight           0\nHometown       108\nHigh School    592\nSummary          0\nRk.x             0\nG                0\nGS               0\nMP               0\nFG               0\nFGA              0\nFG%              0\n2P               0\n2PA              0\n2P%              0\n3P               0\n3PA              0\n3P%              0\nFT               0\nFTA              0\nFT%              0\nORB              0\nDRB              0\nTRB              0\nAST              0\nSTL              0\nBLK              0\nTOV              0\nPF               0\nPTS              0\nRk.y             0\nPER              0\nTS%              0\neFG%             0\n3PAr             0\nFTr              0\nPProd            0\nORB%             0\nDRB%             0\nTRB%             0\nAST%             0\nSTL%             0\nBLK%             0\nTOV%             0\nUSG%             0\nOWS              0\nDWS              0\nWS               0\nWS/40            0\nOBPM             0\nDBPM             0\nBPM              0\ndtype: int64"
     },
     "execution_count": 13,
     "metadata": {},
     "output_type": "execute_result"
    }
   ],
   "source": [
    "df = df.dropna(subset=['FTr', '3PAr', 'eFG%', 'TS%'])\n",
    "df.isnull().sum()"
   ]
  },
  {
   "cell_type": "markdown",
   "id": "7e51bcfb854de489",
   "metadata": {
    "collapsed": false
   },
   "source": [
    "#### 2-3. Cleaning categorical data"
   ]
  },
  {
   "cell_type": "markdown",
   "id": "fb9babd4611cbe45",
   "metadata": {
    "collapsed": false
   },
   "source": [
    "In this dataframe, it seems that the columns **Player (name)** and **Hometown** do not have an impact on the output **class**. Therefore, we are going to remove these columns from the dataframe"
   ]
  },
  {
   "cell_type": "code",
   "execution_count": 14,
   "id": "1bf856152570f3a4",
   "metadata": {
    "collapsed": false,
    "ExecuteTime": {
     "end_time": "2024-11-29T13:26:14.644923127Z",
     "start_time": "2024-11-29T13:26:14.198080997Z"
    }
   },
   "outputs": [
    {
     "data": {
      "text/plain": "Index(['Team', '#', 'Class', 'Pos', 'Height', 'Weight', 'High School',\n       'Summary', 'Rk.x', 'G', 'GS', 'MP', 'FG', 'FGA', 'FG%', '2P', '2PA',\n       '2P%', '3P', '3PA', '3P%', 'FT', 'FTA', 'FT%', 'ORB', 'DRB', 'TRB',\n       'AST', 'STL', 'BLK', 'TOV', 'PF', 'PTS', 'Rk.y', 'PER', 'TS%', 'eFG%',\n       '3PAr', 'FTr', 'PProd', 'ORB%', 'DRB%', 'TRB%', 'AST%', 'STL%', 'BLK%',\n       'TOV%', 'USG%', 'OWS', 'DWS', 'WS', 'WS/40', 'OBPM', 'DBPM', 'BPM'],\n      dtype='object')"
     },
     "execution_count": 14,
     "metadata": {},
     "output_type": "execute_result"
    }
   ],
   "source": [
    "try:\n",
    "    df = df.drop(columns=['Player', 'Hometown'])\n",
    "except KeyError:\n",
    "    print(\"The columns 'Player' and 'Hometown' have already been removed.\")\n",
    "df.columns"
   ]
  },
  {
   "cell_type": "markdown",
   "source": [
    "In the dataframe, we have 592 rows with NaN values in the **High School** column. The number of such rows is significant, so we consider filling these rows with the value `Unknown`."
   ],
   "metadata": {
    "collapsed": false
   },
   "id": "e277d14723d3eed3"
  },
  {
   "cell_type": "code",
   "outputs": [],
   "source": [
    "df['High School'] = df['High School'].fillna('Unknown')"
   ],
   "metadata": {
    "collapsed": false,
    "ExecuteTime": {
     "end_time": "2024-11-29T13:26:14.718808811Z",
     "start_time": "2024-11-29T13:26:14.228285316Z"
    }
   },
   "id": "ed27ab92843a110d",
   "execution_count": 15
  },
  {
   "cell_type": "markdown",
   "source": [
    "The **Summary** column contains values like `9.1 Pts, 6.2 Reb, 0.6 Ast`. We are planning to decompose this column into three separate columns: **Sum_Pts, Sum_Reb, and Sum_Ast**."
   ],
   "metadata": {
    "collapsed": false
   },
   "id": "1c510d4721386c02"
  },
  {
   "cell_type": "code",
   "outputs": [
    {
     "data": {
      "text/plain": "                        Team     # Class Pos  Height  Weight  \\\n0  Youngstown State Penguins   3.0    SO   G  185.42   186.0   \n1  Youngstown State Penguins  33.0    JR   F  198.12   230.0   \n2  Youngstown State Penguins  31.0    JR   F  203.20   212.0   \n3  Youngstown State Penguins  32.0    JR   G  195.58   216.0   \n4  Youngstown State Penguins  13.0    SR   G  195.58   190.0   \n\n                       High School  Rk.x     G    GS  ...  OWS  DWS   WS  \\\n0           Huber Heights Wayne HS   1.0  30.0  29.0  ...  2.7  0.9  3.7   \n1               Lorain High School   2.0  30.0  30.0  ...  1.9  0.8  2.7   \n2  St. Thomas AquiNaNs High School   3.0  30.0  26.0  ...  1.7  1.0  2.7   \n3               Carmel High School   4.0  29.0  24.0  ...  0.7  0.4  1.2   \n4              CardiNaNl O'Hara HS   5.0  30.0  26.0  ...  0.9  0.5  1.4   \n\n   WS/40  OBPM  DBPM  BPM  Sum_Pts  Sum_Reb  Sum_Ast  \n0  0.156   2.9  -1.6  1.3     16.7      3.7      4.1  \n1  0.111   0.2   0.0  0.2     11.1      8.8      2.4  \n2  0.139   1.0  -0.3  0.7      9.1      6.2      0.6  \n3  0.063  -2.4  -2.1 -4.6      8.0      3.7      0.8  \n4  0.085  -1.2  -1.9 -3.1      7.1      3.1      1.2  \n\n[5 rows x 57 columns]",
      "text/html": "<div>\n<style scoped>\n    .dataframe tbody tr th:only-of-type {\n        vertical-align: middle;\n    }\n\n    .dataframe tbody tr th {\n        vertical-align: top;\n    }\n\n    .dataframe thead th {\n        text-align: right;\n    }\n</style>\n<table border=\"1\" class=\"dataframe\">\n  <thead>\n    <tr style=\"text-align: right;\">\n      <th></th>\n      <th>Team</th>\n      <th>#</th>\n      <th>Class</th>\n      <th>Pos</th>\n      <th>Height</th>\n      <th>Weight</th>\n      <th>High School</th>\n      <th>Rk.x</th>\n      <th>G</th>\n      <th>GS</th>\n      <th>...</th>\n      <th>OWS</th>\n      <th>DWS</th>\n      <th>WS</th>\n      <th>WS/40</th>\n      <th>OBPM</th>\n      <th>DBPM</th>\n      <th>BPM</th>\n      <th>Sum_Pts</th>\n      <th>Sum_Reb</th>\n      <th>Sum_Ast</th>\n    </tr>\n  </thead>\n  <tbody>\n    <tr>\n      <th>0</th>\n      <td>Youngstown State Penguins</td>\n      <td>3.0</td>\n      <td>SO</td>\n      <td>G</td>\n      <td>185.42</td>\n      <td>186.0</td>\n      <td>Huber Heights Wayne HS</td>\n      <td>1.0</td>\n      <td>30.0</td>\n      <td>29.0</td>\n      <td>...</td>\n      <td>2.7</td>\n      <td>0.9</td>\n      <td>3.7</td>\n      <td>0.156</td>\n      <td>2.9</td>\n      <td>-1.6</td>\n      <td>1.3</td>\n      <td>16.7</td>\n      <td>3.7</td>\n      <td>4.1</td>\n    </tr>\n    <tr>\n      <th>1</th>\n      <td>Youngstown State Penguins</td>\n      <td>33.0</td>\n      <td>JR</td>\n      <td>F</td>\n      <td>198.12</td>\n      <td>230.0</td>\n      <td>Lorain High School</td>\n      <td>2.0</td>\n      <td>30.0</td>\n      <td>30.0</td>\n      <td>...</td>\n      <td>1.9</td>\n      <td>0.8</td>\n      <td>2.7</td>\n      <td>0.111</td>\n      <td>0.2</td>\n      <td>0.0</td>\n      <td>0.2</td>\n      <td>11.1</td>\n      <td>8.8</td>\n      <td>2.4</td>\n    </tr>\n    <tr>\n      <th>2</th>\n      <td>Youngstown State Penguins</td>\n      <td>31.0</td>\n      <td>JR</td>\n      <td>F</td>\n      <td>203.20</td>\n      <td>212.0</td>\n      <td>St. Thomas AquiNaNs High School</td>\n      <td>3.0</td>\n      <td>30.0</td>\n      <td>26.0</td>\n      <td>...</td>\n      <td>1.7</td>\n      <td>1.0</td>\n      <td>2.7</td>\n      <td>0.139</td>\n      <td>1.0</td>\n      <td>-0.3</td>\n      <td>0.7</td>\n      <td>9.1</td>\n      <td>6.2</td>\n      <td>0.6</td>\n    </tr>\n    <tr>\n      <th>3</th>\n      <td>Youngstown State Penguins</td>\n      <td>32.0</td>\n      <td>JR</td>\n      <td>G</td>\n      <td>195.58</td>\n      <td>216.0</td>\n      <td>Carmel High School</td>\n      <td>4.0</td>\n      <td>29.0</td>\n      <td>24.0</td>\n      <td>...</td>\n      <td>0.7</td>\n      <td>0.4</td>\n      <td>1.2</td>\n      <td>0.063</td>\n      <td>-2.4</td>\n      <td>-2.1</td>\n      <td>-4.6</td>\n      <td>8.0</td>\n      <td>3.7</td>\n      <td>0.8</td>\n    </tr>\n    <tr>\n      <th>4</th>\n      <td>Youngstown State Penguins</td>\n      <td>13.0</td>\n      <td>SR</td>\n      <td>G</td>\n      <td>195.58</td>\n      <td>190.0</td>\n      <td>CardiNaNl O'Hara HS</td>\n      <td>5.0</td>\n      <td>30.0</td>\n      <td>26.0</td>\n      <td>...</td>\n      <td>0.9</td>\n      <td>0.5</td>\n      <td>1.4</td>\n      <td>0.085</td>\n      <td>-1.2</td>\n      <td>-1.9</td>\n      <td>-3.1</td>\n      <td>7.1</td>\n      <td>3.1</td>\n      <td>1.2</td>\n    </tr>\n  </tbody>\n</table>\n<p>5 rows × 57 columns</p>\n</div>"
     },
     "execution_count": 16,
     "metadata": {},
     "output_type": "execute_result"
    }
   ],
   "source": [
    "try:\n",
    "    df[['Sum_Pts', 'Sum_Reb', 'Sum_Ast']] = df['Summary'].str.extract(\n",
    "        r'(\\d+\\.\\d+) Pts, (\\d+\\.\\d+) Reb, (\\d+\\.\\d+) Ast')\n",
    "\n",
    "    df['Sum_Pts'] = pd.to_numeric(df['Sum_Pts'])\n",
    "    df['Sum_Reb'] = pd.to_numeric(df['Sum_Reb'])\n",
    "    df['Sum_Ast'] = pd.to_numeric(df['Sum_Ast'])\n",
    "\n",
    "\n",
    "    df = df.drop(columns=['Summary'])\n",
    "except KeyError:\n",
    "    print(\"The column 'Summary' have already been removed.\")\n",
    "    \n",
    "df.head()"
   ],
   "metadata": {
    "collapsed": false,
    "ExecuteTime": {
     "end_time": "2024-11-29T13:26:14.782853161Z",
     "start_time": "2024-11-29T13:26:14.292793687Z"
    }
   },
   "id": "7f9732efe1722ba6",
   "execution_count": 16
  },
  {
   "cell_type": "markdown",
   "source": [
    "Some columns, such as Class and Pos, contain string-type data but are categorical in nature. We will use LabelEncoder to convert these columns into numerical values. Finally, we will move the Class column to the first position in the dataframe"
   ],
   "metadata": {
    "collapsed": false
   },
   "id": "62cd9cade0f6510d"
  },
  {
   "cell_type": "code",
   "outputs": [
    {
     "data": {
      "text/plain": "   Class  Team     #  Pos  Height  Weight  High School  Rk.x     G    GS  ...  \\\n0      2   352   3.0    2  185.42   186.0         1097   1.0  30.0  29.0  ...   \n1      1   352  33.0    1  198.12   230.0         1381   2.0  30.0  30.0  ...   \n2      1   352  31.0    1  203.20   212.0         2367   3.0  30.0  26.0  ...   \n3      1   352  32.0    2  195.58   216.0          393   4.0  29.0  24.0  ...   \n4      3   352  13.0    2  195.58   190.0          383   5.0  30.0  26.0  ...   \n\n   OWS  DWS   WS  WS/40  OBPM  DBPM  BPM  Sum_Pts  Sum_Reb  Sum_Ast  \n0  2.7  0.9  3.7  0.156   2.9  -1.6  1.3     16.7      3.7      4.1  \n1  1.9  0.8  2.7  0.111   0.2   0.0  0.2     11.1      8.8      2.4  \n2  1.7  1.0  2.7  0.139   1.0  -0.3  0.7      9.1      6.2      0.6  \n3  0.7  0.4  1.2  0.063  -2.4  -2.1 -4.6      8.0      3.7      0.8  \n4  0.9  0.5  1.4  0.085  -1.2  -1.9 -3.1      7.1      3.1      1.2  \n\n[5 rows x 57 columns]",
      "text/html": "<div>\n<style scoped>\n    .dataframe tbody tr th:only-of-type {\n        vertical-align: middle;\n    }\n\n    .dataframe tbody tr th {\n        vertical-align: top;\n    }\n\n    .dataframe thead th {\n        text-align: right;\n    }\n</style>\n<table border=\"1\" class=\"dataframe\">\n  <thead>\n    <tr style=\"text-align: right;\">\n      <th></th>\n      <th>Class</th>\n      <th>Team</th>\n      <th>#</th>\n      <th>Pos</th>\n      <th>Height</th>\n      <th>Weight</th>\n      <th>High School</th>\n      <th>Rk.x</th>\n      <th>G</th>\n      <th>GS</th>\n      <th>...</th>\n      <th>OWS</th>\n      <th>DWS</th>\n      <th>WS</th>\n      <th>WS/40</th>\n      <th>OBPM</th>\n      <th>DBPM</th>\n      <th>BPM</th>\n      <th>Sum_Pts</th>\n      <th>Sum_Reb</th>\n      <th>Sum_Ast</th>\n    </tr>\n  </thead>\n  <tbody>\n    <tr>\n      <th>0</th>\n      <td>2</td>\n      <td>352</td>\n      <td>3.0</td>\n      <td>2</td>\n      <td>185.42</td>\n      <td>186.0</td>\n      <td>1097</td>\n      <td>1.0</td>\n      <td>30.0</td>\n      <td>29.0</td>\n      <td>...</td>\n      <td>2.7</td>\n      <td>0.9</td>\n      <td>3.7</td>\n      <td>0.156</td>\n      <td>2.9</td>\n      <td>-1.6</td>\n      <td>1.3</td>\n      <td>16.7</td>\n      <td>3.7</td>\n      <td>4.1</td>\n    </tr>\n    <tr>\n      <th>1</th>\n      <td>1</td>\n      <td>352</td>\n      <td>33.0</td>\n      <td>1</td>\n      <td>198.12</td>\n      <td>230.0</td>\n      <td>1381</td>\n      <td>2.0</td>\n      <td>30.0</td>\n      <td>30.0</td>\n      <td>...</td>\n      <td>1.9</td>\n      <td>0.8</td>\n      <td>2.7</td>\n      <td>0.111</td>\n      <td>0.2</td>\n      <td>0.0</td>\n      <td>0.2</td>\n      <td>11.1</td>\n      <td>8.8</td>\n      <td>2.4</td>\n    </tr>\n    <tr>\n      <th>2</th>\n      <td>1</td>\n      <td>352</td>\n      <td>31.0</td>\n      <td>1</td>\n      <td>203.20</td>\n      <td>212.0</td>\n      <td>2367</td>\n      <td>3.0</td>\n      <td>30.0</td>\n      <td>26.0</td>\n      <td>...</td>\n      <td>1.7</td>\n      <td>1.0</td>\n      <td>2.7</td>\n      <td>0.139</td>\n      <td>1.0</td>\n      <td>-0.3</td>\n      <td>0.7</td>\n      <td>9.1</td>\n      <td>6.2</td>\n      <td>0.6</td>\n    </tr>\n    <tr>\n      <th>3</th>\n      <td>1</td>\n      <td>352</td>\n      <td>32.0</td>\n      <td>2</td>\n      <td>195.58</td>\n      <td>216.0</td>\n      <td>393</td>\n      <td>4.0</td>\n      <td>29.0</td>\n      <td>24.0</td>\n      <td>...</td>\n      <td>0.7</td>\n      <td>0.4</td>\n      <td>1.2</td>\n      <td>0.063</td>\n      <td>-2.4</td>\n      <td>-2.1</td>\n      <td>-4.6</td>\n      <td>8.0</td>\n      <td>3.7</td>\n      <td>0.8</td>\n    </tr>\n    <tr>\n      <th>4</th>\n      <td>3</td>\n      <td>352</td>\n      <td>13.0</td>\n      <td>2</td>\n      <td>195.58</td>\n      <td>190.0</td>\n      <td>383</td>\n      <td>5.0</td>\n      <td>30.0</td>\n      <td>26.0</td>\n      <td>...</td>\n      <td>0.9</td>\n      <td>0.5</td>\n      <td>1.4</td>\n      <td>0.085</td>\n      <td>-1.2</td>\n      <td>-1.9</td>\n      <td>-3.1</td>\n      <td>7.1</td>\n      <td>3.1</td>\n      <td>1.2</td>\n    </tr>\n  </tbody>\n</table>\n<p>5 rows × 57 columns</p>\n</div>"
     },
     "execution_count": 17,
     "metadata": {},
     "output_type": "execute_result"
    }
   ],
   "source": [
    "from sklearn.preprocessing import LabelEncoder\n",
    "class_le = LabelEncoder()\n",
    "df['Class'] = class_le.fit_transform(df['Class'])\n",
    "\n",
    "team_le = LabelEncoder()\n",
    "df['Team'] = team_le.fit_transform(df['Team'])\n",
    "\n",
    "pos_le = LabelEncoder()\n",
    "df['Pos'] = pos_le.fit_transform(df['Pos'])\n",
    "\n",
    "hs_le = LabelEncoder()\n",
    "df['High School'] = hs_le.fit_transform(df['High School'])\n",
    "\n",
    "\n",
    "columns = df.columns.tolist()\n",
    "columns.insert(0, columns.pop(columns.index('Class')))\n",
    "df = df[columns]\n",
    "\n",
    "df.head()"
   ],
   "metadata": {
    "collapsed": false,
    "ExecuteTime": {
     "end_time": "2024-11-29T13:26:16.276678004Z",
     "start_time": "2024-11-29T13:26:14.450281148Z"
    }
   },
   "id": "70592183ed29d0fe",
   "execution_count": 17
  },
  {
   "cell_type": "markdown",
   "source": [
    "### 3. Training Logistic Regression Model and Calculating Its Accuracy\n",
    "In this step, we will train a Logistic Regression model without any penalty (feature selection). Afterward, we will train another Logistic Regression model with `penalty='l1'`, calculate their accuracies, and compare the two."
   ],
   "metadata": {
    "collapsed": false
   },
   "id": "e424119d18aaa382"
  },
  {
   "cell_type": "code",
   "outputs": [],
   "source": [
    "from sklearn.model_selection import train_test_split\n",
    "\n",
    "#X = df.drop(columns = ['Class', 'Team', '#', 'High School', 'FG%', '2P%', '3P%', 'FT%', 'DWS', 'DRB', '2PA', 'BLK', 'STL',\n",
    "#                       'GS', 'TOV%', 'Weight', 'FTA', 'PF', 'PER', 'FT', 'MP', 'ORB', '3P', 'FGA', 'AST', 'BLK%', \n",
    "#                       '2P', 'Sum_Ast', 'WS/40', 'Rk.y', 'FTr'])\n",
    "X = df.drop(columns = ['Class'])\n",
    "y = df['Class']\n",
    "\n",
    "X_train, X_test, y_train, y_test = train_test_split(X, y, test_size=0.3, random_state=1)"
   ],
   "metadata": {
    "collapsed": false,
    "ExecuteTime": {
     "end_time": "2024-11-29T13:26:16.471234409Z",
     "start_time": "2024-11-29T13:26:16.155150343Z"
    }
   },
   "id": "7a76dd04bd5e7655",
   "execution_count": 18
  },
  {
   "cell_type": "markdown",
   "source": [
    "#### 3-1 Normalize data"
   ],
   "metadata": {
    "collapsed": false
   },
   "id": "f198a6545b16adfb"
  },
  {
   "cell_type": "code",
   "outputs": [],
   "source": [
    "from sklearn.preprocessing import StandardScaler\n",
    "\n",
    "sc = StandardScaler()\n",
    "X_train_std = sc.fit_transform(X_train)\n",
    "X_test_std = sc.transform(X_test)"
   ],
   "metadata": {
    "collapsed": false,
    "ExecuteTime": {
     "end_time": "2024-11-29T13:26:16.720344700Z",
     "start_time": "2024-11-29T13:26:16.322374274Z"
    }
   },
   "id": "d67afdfae86e7e27",
   "execution_count": 19
  },
  {
   "cell_type": "markdown",
   "source": [
    "#### 3-2 Train LR model"
   ],
   "metadata": {
    "collapsed": false
   },
   "id": "d56b54aee9c03411"
  },
  {
   "cell_type": "code",
   "outputs": [
    {
     "name": "stdout",
     "output_type": "stream",
     "text": [
      "no penalty:  0.39231327048585934\n",
      "penalty:  0.38651196519216824\n"
     ]
    }
   ],
   "source": [
    "from sklearn.linear_model import LogisticRegression\n",
    "from sklearn.multiclass import OneVsRestClassifier\n",
    "from sklearn.metrics import accuracy_score\n",
    "\n",
    "lr = LogisticRegression(max_iter=150)\n",
    "ovr = OneVsRestClassifier(lr).fit(X_train_std, y_train)\n",
    "\n",
    "y_pred_no_penalty = ovr.predict(X_test_std)\n",
    "acc_no_penalty = accuracy_score(y_test, y_pred_no_penalty)\n",
    "\n",
    "lr_penalty = LogisticRegression(penalty='l1', solver='liblinear', max_iter=150)\n",
    "ovr_penalty = OneVsRestClassifier(lr_penalty).fit(X_train_std, y_train)\n",
    "y_pred_penalty = ovr_penalty.predict(X_test_std)\n",
    "acc_penalty = accuracy_score(y_test, y_pred_penalty)\n",
    "\n",
    "print(\"no penalty: \", acc_no_penalty)\n",
    "print(\"penalty: \", acc_penalty)\n"
   ],
   "metadata": {
    "collapsed": false,
    "ExecuteTime": {
     "end_time": "2024-11-29T13:26:21.726144301Z",
     "start_time": "2024-11-29T13:26:16.339234194Z"
    }
   },
   "id": "4861a3cf4adbc29b",
   "execution_count": 20
  },
  {
   "cell_type": "code",
   "outputs": [
    {
     "name": "stdout",
     "output_type": "stream",
     "text": [
      "Features with zero coefficients in all estimators:\n",
      "['FG%', 'TRB', 'PTS', 'PProd', 'WS']\n"
     ]
    }
   ],
   "source": [
    "import numpy as np\n",
    "\n",
    "estimators = ovr_penalty.estimators_\n",
    "feature_names = X.columns\n",
    "zero_coef_features = []\n",
    "\n",
    "for i in range(len(X.columns)):\n",
    "    if np.all([estimators[j].coef_[0, i] == 0 for j in range(len(estimators))]):\n",
    "        zero_coef_features.append(feature_names[i])\n",
    "print(\"Features with zero coefficients in all estimators:\")\n",
    "print(zero_coef_features)"
   ],
   "metadata": {
    "collapsed": false,
    "ExecuteTime": {
     "end_time": "2024-11-29T13:26:21.880700966Z",
     "start_time": "2024-11-29T13:26:21.701115166Z"
    }
   },
   "id": "da036f2c368e6531",
   "execution_count": 21
  },
  {
   "cell_type": "markdown",
   "source": [
    "### implement SBS algorithm to feature selection"
   ],
   "metadata": {
    "collapsed": false
   },
   "id": "f4e82385e3302887"
  },
  {
   "cell_type": "code",
   "outputs": [],
   "source": [
    "from sklearn.base import clone\n",
    "from itertools import combinations\n",
    "import numpy as np\n",
    "from sklearn.metrics import accuracy_score\n",
    "from sklearn.model_selection import train_test_split\n",
    "\n",
    "\n",
    "class SBS:\n",
    "    def __init__(self, estimator, k_features, scoring=accuracy_score,\n",
    "                 test_size=0.25, random_state=1):\n",
    "        self.scoring = scoring\n",
    "        self.estimator = clone(estimator)\n",
    "        self.k_features = k_features\n",
    "        self.test_size = test_size\n",
    "        self.random_state = random_state\n",
    "\n",
    "    def fit(self, X, y):\n",
    "        \n",
    "        X_train, X_test, y_train, y_test = \\\n",
    "            train_test_split(X, y, test_size=self.test_size,\n",
    "                             random_state=self.random_state)\n",
    "\n",
    "        dim = X_train.shape[1]\n",
    "        self.indices_ = tuple(range(dim))\n",
    "        self.subsets_ = [self.indices_]\n",
    "        score = self._calc_score(X_train, y_train, \n",
    "                                 X_test, y_test, self.indices_)\n",
    "        self.scores_ = [score]\n",
    "\n",
    "        while dim > self.k_features:\n",
    "            scores = []\n",
    "            subsets = []\n",
    "\n",
    "            for p in combinations(self.indices_, r=dim - 1):\n",
    "                score = self._calc_score(X_train, y_train, \n",
    "                                         X_test, y_test, p)\n",
    "                scores.append(score)\n",
    "                subsets.append(p)\n",
    "\n",
    "            best = np.argmax(scores)\n",
    "            self.indices_ = subsets[best]\n",
    "            self.subsets_.append(self.indices_)\n",
    "            dim -= 1\n",
    "\n",
    "            self.scores_.append(scores[best])\n",
    "        self.k_score_ = self.scores_[-1]\n",
    "\n",
    "        return self\n",
    "\n",
    "    def transform(self, X):\n",
    "        return X[:, self.indices_]\n",
    "\n",
    "    def _calc_score(self, X_train, y_train, X_test, y_test, indices):\n",
    "        self.estimator.fit(X_train[:, indices], y_train)\n",
    "        y_pred = self.estimator.predict(X_test[:, indices])\n",
    "        score = self.scoring(y_test, y_pred)\n",
    "        return score"
   ],
   "metadata": {
    "collapsed": false,
    "ExecuteTime": {
     "end_time": "2024-11-29T13:26:21.986766649Z",
     "start_time": "2024-11-29T13:26:21.738491092Z"
    }
   },
   "id": "879783ec7bc04f32",
   "execution_count": 22
  },
  {
   "cell_type": "code",
   "outputs": [
    {
     "data": {
      "text/plain": "<Figure size 640x480 with 1 Axes>",
      "image/png": "[encoded data removed]"
     },
     "metadata": {},
     "output_type": "display_data"
    }
   ],
   "source": [
    "import matplotlib.pyplot as plt\n",
    "from sklearn.neighbors import KNeighborsClassifier\n",
    "\n",
    "knn = KNeighborsClassifier(n_neighbors=5)\n",
    "\n",
    "# selecting features\n",
    "sbs = SBS(knn, k_features=1)\n",
    "sbs.fit(X_train_std, y_train)\n",
    "\n",
    "# plotting performance of feature subsets\n",
    "k_feat = [len(k) for k in sbs.subsets_]\n",
    "\n",
    "plt.plot(k_feat, sbs.scores_, marker='o')\n",
    "#plt.ylim([0.7, 1.02])\n",
    "plt.ylabel('Accuracy')\n",
    "plt.xlabel('Number of features')\n",
    "plt.grid()\n",
    "plt.tight_layout()\n",
    "# plt.savefig('figures/04_09.png', dpi=300)\n",
    "plt.show()"
   ],
   "metadata": {
    "collapsed": false,
    "ExecuteTime": {
     "end_time": "2024-11-29T13:29:07.353196085Z",
     "start_time": "2024-11-29T13:26:21.792103332Z"
    }
   },
   "id": "34f21ee23e8aec64",
   "execution_count": 23
  },
  {
   "cell_type": "code",
   "outputs": [
    {
     "data": {
      "text/plain": "[0.32587064676616917,\n 0.3370646766169154,\n 0.34701492537313433,\n 0.36069651741293535,\n 0.3706467661691542,\n 0.373134328358209,\n 0.373134328358209,\n 0.3743781094527363,\n 0.373134328358209,\n 0.3756218905472637,\n 0.376865671641791,\n 0.3843283582089552,\n 0.3805970149253731,\n 0.3793532338308458,\n 0.3781094527363184,\n 0.3756218905472637,\n 0.3793532338308458,\n 0.3805970149253731,\n 0.3781094527363184,\n 0.3843283582089552,\n 0.38308457711442784,\n 0.38308457711442784,\n 0.3781094527363184,\n 0.373134328358209,\n 0.3756218905472637,\n 0.3706467661691542,\n 0.3694029850746269,\n 0.3681592039800995,\n 0.3681592039800995,\n 0.3694029850746269,\n 0.3706467661691542,\n 0.3718905472636816,\n 0.3756218905472637,\n 0.3743781094527363,\n 0.3743781094527363,\n 0.3756218905472637,\n 0.3681592039800995,\n 0.3694029850746269,\n 0.3756218905472637,\n 0.3694029850746269,\n 0.36691542288557216,\n 0.373134328358209,\n 0.3644278606965174,\n 0.3619402985074627,\n 0.36691542288557216,\n 0.3582089552238806,\n 0.35945273631840796,\n 0.35074626865671643,\n 0.3407960199004975,\n 0.3370646766169154,\n 0.3420398009950249,\n 0.3358208955223881,\n 0.3333333333333333,\n 0.3345771144278607,\n 0.32213930348258707,\n 0.26616915422885573]"
     },
     "execution_count": 24,
     "metadata": {},
     "output_type": "execute_result"
    }
   ],
   "source": [
    "sbs.scores_"
   ],
   "metadata": {
    "collapsed": false,
    "ExecuteTime": {
     "end_time": "2024-11-29T13:29:07.384209732Z",
     "start_time": "2024-11-29T13:29:07.369076715Z"
    }
   },
   "id": "34168d97f9bfccbf",
   "execution_count": 24
  },
  {
   "cell_type": "code",
   "outputs": [
    {
     "name": "stdout",
     "output_type": "stream",
     "text": [
      " 1) High School                    0.034952\n",
      " 2) Team                           0.026714\n",
      " 3) Weight                         0.023444\n",
      " 4) USG%                           0.022457\n",
      " 5) BPM                            0.022148\n",
      " 6) Sum_Pts                        0.021956\n",
      " 7) TOV%                           0.021719\n",
      " 8) WS/40                          0.021707\n",
      " 9) DBPM                           0.021631\n",
      "10) DRB%                           0.021189\n",
      "11) MP                             0.021023\n",
      "12) PER                            0.020760\n",
      "13) #                              0.020601\n",
      "14) OBPM                           0.020425\n",
      "15) FTr                            0.020378\n",
      "16) FT%                            0.019626\n",
      "17) TS%                            0.019338\n",
      "18) AST%                           0.019328\n",
      "19) TRB%                           0.019318\n",
      "20) ORB%                           0.018917\n",
      "21) 2P%                            0.018768\n",
      "22) DRB                            0.018742\n",
      "23) Sum_Reb                        0.018599\n",
      "24) FG%                            0.018363\n",
      "25) eFG%                           0.018177\n",
      "26) PTS                            0.018129\n",
      "27) PProd                          0.018123\n",
      "28) WS                             0.018091\n",
      "29) PF                             0.017997\n",
      "30) 3PAr                           0.017853\n",
      "31) GS                             0.017641\n",
      "32) FGA                            0.017308\n",
      "33) TRB                            0.016895\n",
      "34) STL%                           0.016854\n",
      "35) FG                             0.016703\n",
      "36) 2PA                            0.016374\n",
      "37) FTA                            0.016348\n",
      "38) 3PA                            0.015950\n",
      "39) FT                             0.015569\n",
      "40) 3P%                            0.015495\n",
      "41) Height                         0.015490\n",
      "42) TOV                            0.015387\n",
      "43) G                              0.015101\n",
      "44) AST                            0.015013\n",
      "45) ORB                            0.014992\n",
      "46) BLK%                           0.014982\n",
      "47) OWS                            0.014951\n",
      "48) Rk.y                           0.014883\n",
      "49) 2P                             0.014598\n",
      "50) STL                            0.014430\n",
      "51) Sum_Ast                        0.013763\n",
      "52) 3P                             0.012619\n",
      "53) BLK                            0.012192\n",
      "54) DWS                            0.012059\n",
      "55) Rk.x                           0.010643\n",
      "56) Pos                            0.003286\n"
     ]
    },
    {
     "data": {
      "text/plain": "<Figure size 640x480 with 1 Axes>",
      "image/png": "[encoded data removed]"
     },
     "metadata": {},
     "output_type": "display_data"
    }
   ],
   "source": [
    "from sklearn.ensemble import RandomForestClassifier\n",
    "\n",
    "feat_labels = X.columns\n",
    "\n",
    "forest = RandomForestClassifier(n_estimators=500,\n",
    "                                random_state=1)\n",
    "\n",
    "forest.fit(X_train_std, y_train)\n",
    "importances = forest.feature_importances_\n",
    "\n",
    "indices = np.argsort(importances)[::-1]\n",
    "\n",
    "for f in range(X_train_std.shape[1]):\n",
    "    print(\"%2d) %-*s %f\" % (f + 1, 30, \n",
    "                            feat_labels[indices[f]], \n",
    "                            importances[indices[f]]))\n",
    "\n",
    "plt.title('Feature importance')\n",
    "plt.bar(range(X_train_std.shape[1]), \n",
    "        importances[indices],\n",
    "        align='center')\n",
    "\n",
    "plt.xticks(range(X_train_std.shape[1]), \n",
    "           feat_labels[indices], rotation=90)\n",
    "plt.xlim([-1, X_train_std.shape[1]])\n",
    "plt.tight_layout()\n",
    "# plt.savefig('figures/04_10.png', dpi=300)\n",
    "plt.show()"
   ],
   "metadata": {
    "collapsed": false,
    "ExecuteTime": {
     "end_time": "2024-11-29T13:29:31.442100736Z",
     "start_time": "2024-11-29T13:29:07.372157743Z"
    }
   },
   "id": "dc2abd969d4a9da4",
   "execution_count": 25
  },
  {
   "cell_type": "code",
   "outputs": [
    {
     "name": "stdout",
     "output_type": "stream",
     "text": [
      "Number of features that meet this threshold criterion: 55\n",
      " 1) High School                    0.034952\n",
      " 2) Team                           0.026714\n",
      " 3) Weight                         0.023444\n",
      " 4) USG%                           0.022457\n",
      " 5) BPM                            0.022148\n",
      " 6) Sum_Pts                        0.021956\n",
      " 7) TOV%                           0.021719\n",
      " 8) WS/40                          0.021707\n",
      " 9) DBPM                           0.021631\n",
      "10) DRB%                           0.021189\n",
      "11) MP                             0.021023\n",
      "12) PER                            0.020760\n",
      "13) #                              0.020601\n",
      "14) OBPM                           0.020425\n",
      "15) FTr                            0.020378\n",
      "16) FT%                            0.019626\n",
      "17) TS%                            0.019338\n",
      "18) AST%                           0.019328\n",
      "19) TRB%                           0.019318\n",
      "20) ORB%                           0.018917\n",
      "21) 2P%                            0.018768\n",
      "22) DRB                            0.018742\n",
      "23) Sum_Reb                        0.018599\n",
      "24) FG%                            0.018363\n",
      "25) eFG%                           0.018177\n",
      "26) PTS                            0.018129\n",
      "27) PProd                          0.018123\n",
      "28) WS                             0.018091\n",
      "29) PF                             0.017997\n",
      "30) 3PAr                           0.017853\n",
      "31) GS                             0.017641\n",
      "32) FGA                            0.017308\n",
      "33) TRB                            0.016895\n",
      "34) STL%                           0.016854\n",
      "35) FG                             0.016703\n",
      "36) 2PA                            0.016374\n",
      "37) FTA                            0.016348\n",
      "38) 3PA                            0.015950\n",
      "39) FT                             0.015569\n",
      "40) 3P%                            0.015495\n",
      "41) Height                         0.015490\n",
      "42) TOV                            0.015387\n",
      "43) G                              0.015101\n",
      "44) AST                            0.015013\n",
      "45) ORB                            0.014992\n",
      "46) BLK%                           0.014982\n",
      "47) OWS                            0.014951\n",
      "48) Rk.y                           0.014883\n",
      "49) 2P                             0.014598\n",
      "50) STL                            0.014430\n",
      "51) Sum_Ast                        0.013763\n",
      "52) 3P                             0.012619\n",
      "53) BLK                            0.012192\n",
      "54) DWS                            0.012059\n",
      "55) Rk.x                           0.010643\n"
     ]
    }
   ],
   "source": [
    "from sklearn.feature_selection import SelectFromModel\n",
    "\n",
    "sfm = SelectFromModel(forest, threshold=0.01, prefit=True)\n",
    "X_selected = sfm.transform(X_train_std)\n",
    "print('Number of features that meet this threshold criterion:', \n",
    "      X_selected.shape[1])\n",
    "for f in range(X_selected.shape[1]):\n",
    "    print(\"%2d) %-*s %f\" % (f + 1, 30, \n",
    "                            feat_labels[indices[f]], \n",
    "                            importances[indices[f]]))\n"
   ],
   "metadata": {
    "collapsed": false,
    "ExecuteTime": {
     "end_time": "2024-11-29T13:29:31.897260622Z",
     "start_time": "2024-11-29T13:29:31.423960724Z"
    }
   },
   "id": "a43cb8f464c493d",
   "execution_count": 26
  },
  {
   "cell_type": "code",
   "outputs": [
    {
     "name": "stdout",
     "output_type": "stream",
     "text": [
      "Accuracy Score with PCA:  0.37200870195794056\n"
     ]
    }
   ],
   "source": [
    "from sklearn.decomposition import PCA\n",
    "\n",
    "pca = PCA(n_components=20)\n",
    "\n",
    "X_train_pca = pca.fit_transform(X_train_std)\n",
    "X_test_pca = pca.transform(X_test_std)\n",
    "\n",
    "\n",
    "lr = LogisticRegression(max_iter=150, penalty='l1', solver='liblinear')\n",
    "ovr = OneVsRestClassifier(lr).fit(X_train_pca, y_train)\n",
    "\n",
    "y_pred = ovr.predict(X_test_pca)\n",
    "acc_score = accuracy_score(y_test, y_pred)\n",
    "\n",
    "\n",
    "print(\"Accuracy Score with PCA: \", acc_score)\n"
   ],
   "metadata": {
    "collapsed": false,
    "ExecuteTime": {
     "end_time": "2024-11-29T13:29:32.403393349Z",
     "start_time": "2024-11-29T13:29:31.903329618Z"
    }
   },
   "id": "156f08469c31d1d",
   "execution_count": 27
  },
  {
   "cell_type": "code",
   "outputs": [],
   "source": [],
   "metadata": {
    "collapsed": false,
    "ExecuteTime": {
     "end_time": "2024-11-29T13:29:32.450455064Z",
     "start_time": "2024-11-29T13:29:32.400886548Z"
    }
   },
   "id": "1ec2e30be8f47f13",
   "execution_count": 27
  }
 ],
 "metadata": {
  "kernelspec": {
   "display_name": ".venv",
   "language": "python",
   "name": "python3"
  },
  "language_info": {
   "codemirror_mode": {
    "name": "ipython",
    "version": 3
   },
   "file_extension": ".py",
   "mimetype": "text/x-python",
   "name": "python",
   "nbconvert_exporter": "python",
   "pygments_lexer": "ipython3",
   "version": "3.10.12"
  }
 },
 "nbformat": 4,
 "nbformat_minor": 5
}
